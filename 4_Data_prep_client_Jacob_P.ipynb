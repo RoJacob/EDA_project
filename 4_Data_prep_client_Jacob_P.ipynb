{
 "cells": [
  {
   "cell_type": "markdown",
   "id": "c87905bc-5ef4-4de0-bf69-e74b408d5dde",
   "metadata": {},
   "source": [
    "## Adressing the clients needs, filter the data accordingly and derive proposals for the client"
   ]
  },
  {
   "cell_type": "markdown",
   "id": "be130cf2-21af-4c8d-9588-f2920a2f47ae",
   "metadata": {},
   "source": [
    "The client (Jacob Phillips) is a buyer and was described with the following paragraph:  \n",
    "\"Unlimited Budget, 4+ bathrooms or smaller house nearby, big lot (tennis court & pool), golf, historic, no waterfront\"  \n",
    "\n",
    "From this the following criteria were derived:\n",
    "* money is not an issue --> no limitations\n",
    "* number of bathrooms >= 4\n",
    "* lot site > 20000 sqft (a tennis court needs 7200 sqft, a nicely sized pool needs 3000 sqft, house, garden, garage, pool house, walkways, etc.)\n",
    "* historic house --> built before 1975\n",
    "* no waterfront\n",
    "  \n",
    "The part \"or smaller house nearby\" was not addressed, because there were enough properties fulfilling the other criteria.  \n",
    "The solution to the \"golf wish\" is documented in detail further below."
   ]
  },
  {
   "cell_type": "code",
   "execution_count": 2,
   "id": "0a7e76ef-69b3-4bda-acad-6bc690d1e72a",
   "metadata": {},
   "outputs": [],
   "source": [
    "# import all libraries which can be helpful down the road\n",
    "import numpy as np\n",
    "import pandas as pd\n",
    "import matplotlib.pyplot as plt\n",
    "import seaborn as sns\n",
    "import plotly.express as px\n",
    "import altair as alt\n",
    "import missingno as msno"
   ]
  },
  {
   "cell_type": "code",
   "execution_count": 3,
   "id": "3a16ceeb-6fa8-4876-aed6-0835f80564f4",
   "metadata": {},
   "outputs": [
    {
     "data": {
      "text/html": [
       "<div>\n",
       "<style scoped>\n",
       "    .dataframe tbody tr th:only-of-type {\n",
       "        vertical-align: middle;\n",
       "    }\n",
       "\n",
       "    .dataframe tbody tr th {\n",
       "        vertical-align: top;\n",
       "    }\n",
       "\n",
       "    .dataframe thead th {\n",
       "        text-align: right;\n",
       "    }\n",
       "</style>\n",
       "<table border=\"1\" class=\"dataframe\">\n",
       "  <thead>\n",
       "    <tr style=\"text-align: right;\">\n",
       "      <th></th>\n",
       "      <th>prop_id</th>\n",
       "      <th>bedrooms</th>\n",
       "      <th>bathrooms</th>\n",
       "      <th>sqft_living</th>\n",
       "      <th>sqft_lot</th>\n",
       "      <th>floors</th>\n",
       "      <th>waterfront</th>\n",
       "      <th>view</th>\n",
       "      <th>condition</th>\n",
       "      <th>grade</th>\n",
       "      <th>...</th>\n",
       "      <th>sqft_basement</th>\n",
       "      <th>yr_built</th>\n",
       "      <th>yr_renovated</th>\n",
       "      <th>zipcode</th>\n",
       "      <th>lat</th>\n",
       "      <th>long</th>\n",
       "      <th>sqft_living15</th>\n",
       "      <th>sqft_lot15</th>\n",
       "      <th>price</th>\n",
       "      <th>transaction_id</th>\n",
       "    </tr>\n",
       "  </thead>\n",
       "  <tbody>\n",
       "    <tr>\n",
       "      <th>count</th>\n",
       "      <td>2.159700e+04</td>\n",
       "      <td>21597.000000</td>\n",
       "      <td>21597.000000</td>\n",
       "      <td>21597.000000</td>\n",
       "      <td>2.159700e+04</td>\n",
       "      <td>21597.000000</td>\n",
       "      <td>21597.000000</td>\n",
       "      <td>21597.000000</td>\n",
       "      <td>21597.000000</td>\n",
       "      <td>21597.000000</td>\n",
       "      <td>...</td>\n",
       "      <td>21597.000000</td>\n",
       "      <td>21597.000000</td>\n",
       "      <td>744.0</td>\n",
       "      <td>21597.000000</td>\n",
       "      <td>21597.000000</td>\n",
       "      <td>21597.000000</td>\n",
       "      <td>21597.000000</td>\n",
       "      <td>21597.000000</td>\n",
       "      <td>2.159700e+04</td>\n",
       "      <td>21597.000000</td>\n",
       "    </tr>\n",
       "    <tr>\n",
       "      <th>mean</th>\n",
       "      <td>4.580474e+09</td>\n",
       "      <td>3.373200</td>\n",
       "      <td>2.115826</td>\n",
       "      <td>2080.321850</td>\n",
       "      <td>1.509941e+04</td>\n",
       "      <td>1.494096</td>\n",
       "      <td>0.006760</td>\n",
       "      <td>0.233181</td>\n",
       "      <td>3.409825</td>\n",
       "      <td>7.657915</td>\n",
       "      <td>...</td>\n",
       "      <td>285.748993</td>\n",
       "      <td>1970.999676</td>\n",
       "      <td>1995.928763</td>\n",
       "      <td>98077.951845</td>\n",
       "      <td>47.560093</td>\n",
       "      <td>-122.213983</td>\n",
       "      <td>1986.620318</td>\n",
       "      <td>12758.283512</td>\n",
       "      <td>5.402966e+05</td>\n",
       "      <td>10799.000000</td>\n",
       "    </tr>\n",
       "    <tr>\n",
       "      <th>std</th>\n",
       "      <td>2.876736e+09</td>\n",
       "      <td>0.926299</td>\n",
       "      <td>0.768984</td>\n",
       "      <td>918.106125</td>\n",
       "      <td>4.141264e+04</td>\n",
       "      <td>0.539683</td>\n",
       "      <td>0.081944</td>\n",
       "      <td>0.764673</td>\n",
       "      <td>0.650546</td>\n",
       "      <td>1.173200</td>\n",
       "      <td>...</td>\n",
       "      <td>439.824566</td>\n",
       "      <td>29.375234</td>\n",
       "      <td>15.599946</td>\n",
       "      <td>53.513072</td>\n",
       "      <td>0.138552</td>\n",
       "      <td>0.140724</td>\n",
       "      <td>685.230472</td>\n",
       "      <td>27274.441950</td>\n",
       "      <td>3.673681e+05</td>\n",
       "      <td>6234.661218</td>\n",
       "    </tr>\n",
       "    <tr>\n",
       "      <th>min</th>\n",
       "      <td>1.000102e+06</td>\n",
       "      <td>1.000000</td>\n",
       "      <td>0.500000</td>\n",
       "      <td>370.000000</td>\n",
       "      <td>5.200000e+02</td>\n",
       "      <td>1.000000</td>\n",
       "      <td>0.000000</td>\n",
       "      <td>0.000000</td>\n",
       "      <td>1.000000</td>\n",
       "      <td>3.000000</td>\n",
       "      <td>...</td>\n",
       "      <td>0.000000</td>\n",
       "      <td>1900.000000</td>\n",
       "      <td>1934.0</td>\n",
       "      <td>98001.000000</td>\n",
       "      <td>47.155900</td>\n",
       "      <td>-122.519000</td>\n",
       "      <td>399.000000</td>\n",
       "      <td>651.000000</td>\n",
       "      <td>7.800000e+04</td>\n",
       "      <td>1.000000</td>\n",
       "    </tr>\n",
       "    <tr>\n",
       "      <th>25%</th>\n",
       "      <td>2.123049e+09</td>\n",
       "      <td>3.000000</td>\n",
       "      <td>1.750000</td>\n",
       "      <td>1430.000000</td>\n",
       "      <td>5.040000e+03</td>\n",
       "      <td>1.000000</td>\n",
       "      <td>0.000000</td>\n",
       "      <td>0.000000</td>\n",
       "      <td>3.000000</td>\n",
       "      <td>7.000000</td>\n",
       "      <td>...</td>\n",
       "      <td>0.000000</td>\n",
       "      <td>1951.000000</td>\n",
       "      <td>1987.0</td>\n",
       "      <td>98033.000000</td>\n",
       "      <td>47.471100</td>\n",
       "      <td>-122.328000</td>\n",
       "      <td>1490.000000</td>\n",
       "      <td>5100.000000</td>\n",
       "      <td>3.220000e+05</td>\n",
       "      <td>5400.000000</td>\n",
       "    </tr>\n",
       "    <tr>\n",
       "      <th>50%</th>\n",
       "      <td>3.904930e+09</td>\n",
       "      <td>3.000000</td>\n",
       "      <td>2.250000</td>\n",
       "      <td>1910.000000</td>\n",
       "      <td>7.618000e+03</td>\n",
       "      <td>1.500000</td>\n",
       "      <td>0.000000</td>\n",
       "      <td>0.000000</td>\n",
       "      <td>3.000000</td>\n",
       "      <td>7.000000</td>\n",
       "      <td>...</td>\n",
       "      <td>0.000000</td>\n",
       "      <td>1975.000000</td>\n",
       "      <td>2000.0</td>\n",
       "      <td>98065.000000</td>\n",
       "      <td>47.571800</td>\n",
       "      <td>-122.231000</td>\n",
       "      <td>1840.000000</td>\n",
       "      <td>7620.000000</td>\n",
       "      <td>4.500000e+05</td>\n",
       "      <td>10799.000000</td>\n",
       "    </tr>\n",
       "    <tr>\n",
       "      <th>75%</th>\n",
       "      <td>7.308900e+09</td>\n",
       "      <td>4.000000</td>\n",
       "      <td>2.500000</td>\n",
       "      <td>2550.000000</td>\n",
       "      <td>1.068500e+04</td>\n",
       "      <td>2.000000</td>\n",
       "      <td>0.000000</td>\n",
       "      <td>0.000000</td>\n",
       "      <td>4.000000</td>\n",
       "      <td>8.000000</td>\n",
       "      <td>...</td>\n",
       "      <td>550.000000</td>\n",
       "      <td>1997.000000</td>\n",
       "      <td>2007.25</td>\n",
       "      <td>98118.000000</td>\n",
       "      <td>47.678000</td>\n",
       "      <td>-122.125000</td>\n",
       "      <td>2360.000000</td>\n",
       "      <td>10083.000000</td>\n",
       "      <td>6.450000e+05</td>\n",
       "      <td>16198.000000</td>\n",
       "    </tr>\n",
       "    <tr>\n",
       "      <th>max</th>\n",
       "      <td>9.900000e+09</td>\n",
       "      <td>33.000000</td>\n",
       "      <td>8.000000</td>\n",
       "      <td>13540.000000</td>\n",
       "      <td>1.651359e+06</td>\n",
       "      <td>3.500000</td>\n",
       "      <td>1.000000</td>\n",
       "      <td>4.000000</td>\n",
       "      <td>5.000000</td>\n",
       "      <td>13.000000</td>\n",
       "      <td>...</td>\n",
       "      <td>4820.000000</td>\n",
       "      <td>2015.000000</td>\n",
       "      <td>2015.0</td>\n",
       "      <td>98199.000000</td>\n",
       "      <td>47.777600</td>\n",
       "      <td>-121.315000</td>\n",
       "      <td>6210.000000</td>\n",
       "      <td>871200.000000</td>\n",
       "      <td>7.700000e+06</td>\n",
       "      <td>21597.000000</td>\n",
       "    </tr>\n",
       "  </tbody>\n",
       "</table>\n",
       "<p>8 rows × 21 columns</p>\n",
       "</div>"
      ],
      "text/plain": [
       "            prop_id      bedrooms     bathrooms   sqft_living      sqft_lot  \\\n",
       "count  2.159700e+04  21597.000000  21597.000000  21597.000000  2.159700e+04   \n",
       "mean   4.580474e+09      3.373200      2.115826   2080.321850  1.509941e+04   \n",
       "std    2.876736e+09      0.926299      0.768984    918.106125  4.141264e+04   \n",
       "min    1.000102e+06      1.000000      0.500000    370.000000  5.200000e+02   \n",
       "25%    2.123049e+09      3.000000      1.750000   1430.000000  5.040000e+03   \n",
       "50%    3.904930e+09      3.000000      2.250000   1910.000000  7.618000e+03   \n",
       "75%    7.308900e+09      4.000000      2.500000   2550.000000  1.068500e+04   \n",
       "max    9.900000e+09     33.000000      8.000000  13540.000000  1.651359e+06   \n",
       "\n",
       "             floors    waterfront          view     condition         grade  \\\n",
       "count  21597.000000  21597.000000  21597.000000  21597.000000  21597.000000   \n",
       "mean       1.494096      0.006760      0.233181      3.409825      7.657915   \n",
       "std        0.539683      0.081944      0.764673      0.650546      1.173200   \n",
       "min        1.000000      0.000000      0.000000      1.000000      3.000000   \n",
       "25%        1.000000      0.000000      0.000000      3.000000      7.000000   \n",
       "50%        1.500000      0.000000      0.000000      3.000000      7.000000   \n",
       "75%        2.000000      0.000000      0.000000      4.000000      8.000000   \n",
       "max        3.500000      1.000000      4.000000      5.000000     13.000000   \n",
       "\n",
       "       ...  sqft_basement      yr_built  yr_renovated       zipcode  \\\n",
       "count  ...   21597.000000  21597.000000         744.0  21597.000000   \n",
       "mean   ...     285.748993   1970.999676   1995.928763  98077.951845   \n",
       "std    ...     439.824566     29.375234     15.599946     53.513072   \n",
       "min    ...       0.000000   1900.000000        1934.0  98001.000000   \n",
       "25%    ...       0.000000   1951.000000        1987.0  98033.000000   \n",
       "50%    ...       0.000000   1975.000000        2000.0  98065.000000   \n",
       "75%    ...     550.000000   1997.000000       2007.25  98118.000000   \n",
       "max    ...    4820.000000   2015.000000        2015.0  98199.000000   \n",
       "\n",
       "                lat          long  sqft_living15     sqft_lot15         price  \\\n",
       "count  21597.000000  21597.000000   21597.000000   21597.000000  2.159700e+04   \n",
       "mean      47.560093   -122.213983    1986.620318   12758.283512  5.402966e+05   \n",
       "std        0.138552      0.140724     685.230472   27274.441950  3.673681e+05   \n",
       "min       47.155900   -122.519000     399.000000     651.000000  7.800000e+04   \n",
       "25%       47.471100   -122.328000    1490.000000    5100.000000  3.220000e+05   \n",
       "50%       47.571800   -122.231000    1840.000000    7620.000000  4.500000e+05   \n",
       "75%       47.678000   -122.125000    2360.000000   10083.000000  6.450000e+05   \n",
       "max       47.777600   -121.315000    6210.000000  871200.000000  7.700000e+06   \n",
       "\n",
       "       transaction_id  \n",
       "count    21597.000000  \n",
       "mean     10799.000000  \n",
       "std       6234.661218  \n",
       "min          1.000000  \n",
       "25%       5400.000000  \n",
       "50%      10799.000000  \n",
       "75%      16198.000000  \n",
       "max      21597.000000  \n",
       "\n",
       "[8 rows x 21 columns]"
      ]
     },
     "execution_count": 3,
     "metadata": {},
     "output_type": "execute_result"
    }
   ],
   "source": [
    "# Data type has to be set again, because it is \"lost\" during saving and importing the data in/from csv-file\n",
    "df = pd.read_csv('data/cleaned_realestate.csv', sep=\";\")\n",
    "df['yr_renovated'] = df['yr_renovated'].astype(pd.Int64Dtype())\n",
    "df.describe()"
   ]
  },
  {
   "cell_type": "markdown",
   "id": "f978585c-8776-489f-90d2-c4424a262555",
   "metadata": {},
   "source": [
    "##### Creation of a dataframe with less data, only containing properties which fulfill the client's wishes. I added the criterium \"condition >=4\", because I assumed/decided that a client with those exculsive and expensive wishes would not want to move into a shabby house or spend much time renovating it before."
   ]
  },
  {
   "cell_type": "code",
   "execution_count": 124,
   "id": "9b1d6d9a-1e64-4808-b484-902ebed85ee6",
   "metadata": {},
   "outputs": [
    {
     "data": {
      "text/html": [
       "<div>\n",
       "<style scoped>\n",
       "    .dataframe tbody tr th:only-of-type {\n",
       "        vertical-align: middle;\n",
       "    }\n",
       "\n",
       "    .dataframe tbody tr th {\n",
       "        vertical-align: top;\n",
       "    }\n",
       "\n",
       "    .dataframe thead th {\n",
       "        text-align: right;\n",
       "    }\n",
       "</style>\n",
       "<table border=\"1\" class=\"dataframe\">\n",
       "  <thead>\n",
       "    <tr style=\"text-align: right;\">\n",
       "      <th></th>\n",
       "      <th>prop_id</th>\n",
       "      <th>bedrooms</th>\n",
       "      <th>bathrooms</th>\n",
       "      <th>sqft_living</th>\n",
       "      <th>sqft_lot</th>\n",
       "      <th>floors</th>\n",
       "      <th>waterfront</th>\n",
       "      <th>view</th>\n",
       "      <th>condition</th>\n",
       "      <th>grade</th>\n",
       "      <th>...</th>\n",
       "      <th>yr_built</th>\n",
       "      <th>yr_renovated</th>\n",
       "      <th>zipcode</th>\n",
       "      <th>lat</th>\n",
       "      <th>long</th>\n",
       "      <th>sqft_living15</th>\n",
       "      <th>sqft_lot15</th>\n",
       "      <th>date</th>\n",
       "      <th>price</th>\n",
       "      <th>transaction_id</th>\n",
       "    </tr>\n",
       "  </thead>\n",
       "  <tbody>\n",
       "    <tr>\n",
       "      <th>3018</th>\n",
       "      <td>3377900195</td>\n",
       "      <td>4.0</td>\n",
       "      <td>5.50</td>\n",
       "      <td>6930</td>\n",
       "      <td>45100</td>\n",
       "      <td>1.0</td>\n",
       "      <td>0</td>\n",
       "      <td>0</td>\n",
       "      <td>4</td>\n",
       "      <td>11</td>\n",
       "      <td>...</td>\n",
       "      <td>1950</td>\n",
       "      <td>1991</td>\n",
       "      <td>98006</td>\n",
       "      <td>47.5547</td>\n",
       "      <td>-122.144</td>\n",
       "      <td>2560</td>\n",
       "      <td>37766</td>\n",
       "      <td>2014-09-29</td>\n",
       "      <td>2530000</td>\n",
       "      <td>3019</td>\n",
       "    </tr>\n",
       "    <tr>\n",
       "      <th>3314</th>\n",
       "      <td>2821049048</td>\n",
       "      <td>4.0</td>\n",
       "      <td>4.25</td>\n",
       "      <td>2360</td>\n",
       "      <td>57514</td>\n",
       "      <td>2.0</td>\n",
       "      <td>0</td>\n",
       "      <td>0</td>\n",
       "      <td>4</td>\n",
       "      <td>8</td>\n",
       "      <td>...</td>\n",
       "      <td>1939</td>\n",
       "      <td>&lt;NA&gt;</td>\n",
       "      <td>98003</td>\n",
       "      <td>47.2843</td>\n",
       "      <td>-122.294</td>\n",
       "      <td>2037</td>\n",
       "      <td>35733</td>\n",
       "      <td>2014-06-03</td>\n",
       "      <td>590000</td>\n",
       "      <td>3315</td>\n",
       "    </tr>\n",
       "    <tr>\n",
       "      <th>5844</th>\n",
       "      <td>3585900500</td>\n",
       "      <td>4.0</td>\n",
       "      <td>4.25</td>\n",
       "      <td>4720</td>\n",
       "      <td>21000</td>\n",
       "      <td>3.0</td>\n",
       "      <td>0</td>\n",
       "      <td>4</td>\n",
       "      <td>5</td>\n",
       "      <td>11</td>\n",
       "      <td>...</td>\n",
       "      <td>1971</td>\n",
       "      <td>&lt;NA&gt;</td>\n",
       "      <td>98177</td>\n",
       "      <td>47.7591</td>\n",
       "      <td>-122.376</td>\n",
       "      <td>3010</td>\n",
       "      <td>20000</td>\n",
       "      <td>2015-04-02</td>\n",
       "      <td>1530000</td>\n",
       "      <td>5845</td>\n",
       "    </tr>\n",
       "    <tr>\n",
       "      <th>5961</th>\n",
       "      <td>5249800010</td>\n",
       "      <td>4.0</td>\n",
       "      <td>4.25</td>\n",
       "      <td>6410</td>\n",
       "      <td>43838</td>\n",
       "      <td>2.5</td>\n",
       "      <td>0</td>\n",
       "      <td>2</td>\n",
       "      <td>4</td>\n",
       "      <td>12</td>\n",
       "      <td>...</td>\n",
       "      <td>1906</td>\n",
       "      <td>&lt;NA&gt;</td>\n",
       "      <td>98144</td>\n",
       "      <td>47.5703</td>\n",
       "      <td>-122.280</td>\n",
       "      <td>2270</td>\n",
       "      <td>6630</td>\n",
       "      <td>2014-12-03</td>\n",
       "      <td>2730000</td>\n",
       "      <td>5962</td>\n",
       "    </tr>\n",
       "    <tr>\n",
       "      <th>7245</th>\n",
       "      <td>6762700020</td>\n",
       "      <td>6.0</td>\n",
       "      <td>8.00</td>\n",
       "      <td>12050</td>\n",
       "      <td>27600</td>\n",
       "      <td>2.5</td>\n",
       "      <td>0</td>\n",
       "      <td>3</td>\n",
       "      <td>4</td>\n",
       "      <td>13</td>\n",
       "      <td>...</td>\n",
       "      <td>1910</td>\n",
       "      <td>1987</td>\n",
       "      <td>98102</td>\n",
       "      <td>47.6298</td>\n",
       "      <td>-122.323</td>\n",
       "      <td>3940</td>\n",
       "      <td>8800</td>\n",
       "      <td>2014-10-13</td>\n",
       "      <td>7700000</td>\n",
       "      <td>7246</td>\n",
       "    </tr>\n",
       "    <tr>\n",
       "      <th>7304</th>\n",
       "      <td>6072800170</td>\n",
       "      <td>4.0</td>\n",
       "      <td>4.00</td>\n",
       "      <td>3330</td>\n",
       "      <td>24354</td>\n",
       "      <td>1.0</td>\n",
       "      <td>0</td>\n",
       "      <td>0</td>\n",
       "      <td>4</td>\n",
       "      <td>10</td>\n",
       "      <td>...</td>\n",
       "      <td>1961</td>\n",
       "      <td>&lt;NA&gt;</td>\n",
       "      <td>98006</td>\n",
       "      <td>47.5708</td>\n",
       "      <td>-122.192</td>\n",
       "      <td>3880</td>\n",
       "      <td>25493</td>\n",
       "      <td>2015-04-28</td>\n",
       "      <td>2500000</td>\n",
       "      <td>7305</td>\n",
       "    </tr>\n",
       "    <tr>\n",
       "      <th>14172</th>\n",
       "      <td>1333300145</td>\n",
       "      <td>3.0</td>\n",
       "      <td>4.00</td>\n",
       "      <td>4200</td>\n",
       "      <td>30120</td>\n",
       "      <td>2.0</td>\n",
       "      <td>0</td>\n",
       "      <td>2</td>\n",
       "      <td>4</td>\n",
       "      <td>11</td>\n",
       "      <td>...</td>\n",
       "      <td>1933</td>\n",
       "      <td>&lt;NA&gt;</td>\n",
       "      <td>98112</td>\n",
       "      <td>47.6379</td>\n",
       "      <td>-122.311</td>\n",
       "      <td>2760</td>\n",
       "      <td>12200</td>\n",
       "      <td>2015-03-04</td>\n",
       "      <td>2230000</td>\n",
       "      <td>14173</td>\n",
       "    </tr>\n",
       "    <tr>\n",
       "      <th>14926</th>\n",
       "      <td>3627800050</td>\n",
       "      <td>5.0</td>\n",
       "      <td>4.00</td>\n",
       "      <td>3760</td>\n",
       "      <td>22763</td>\n",
       "      <td>1.0</td>\n",
       "      <td>0</td>\n",
       "      <td>3</td>\n",
       "      <td>4</td>\n",
       "      <td>11</td>\n",
       "      <td>...</td>\n",
       "      <td>1969</td>\n",
       "      <td>&lt;NA&gt;</td>\n",
       "      <td>98040</td>\n",
       "      <td>47.5333</td>\n",
       "      <td>-122.220</td>\n",
       "      <td>3730</td>\n",
       "      <td>11201</td>\n",
       "      <td>2014-07-15</td>\n",
       "      <td>1380000</td>\n",
       "      <td>14927</td>\n",
       "    </tr>\n",
       "    <tr>\n",
       "      <th>15152</th>\n",
       "      <td>3304700130</td>\n",
       "      <td>4.0</td>\n",
       "      <td>4.00</td>\n",
       "      <td>3860</td>\n",
       "      <td>67953</td>\n",
       "      <td>2.0</td>\n",
       "      <td>0</td>\n",
       "      <td>2</td>\n",
       "      <td>4</td>\n",
       "      <td>12</td>\n",
       "      <td>...</td>\n",
       "      <td>1927</td>\n",
       "      <td>&lt;NA&gt;</td>\n",
       "      <td>98177</td>\n",
       "      <td>47.7469</td>\n",
       "      <td>-122.378</td>\n",
       "      <td>4410</td>\n",
       "      <td>128066</td>\n",
       "      <td>2015-01-28</td>\n",
       "      <td>1760000</td>\n",
       "      <td>15153</td>\n",
       "    </tr>\n",
       "    <tr>\n",
       "      <th>17665</th>\n",
       "      <td>3585901085</td>\n",
       "      <td>6.0</td>\n",
       "      <td>4.50</td>\n",
       "      <td>3810</td>\n",
       "      <td>28176</td>\n",
       "      <td>1.0</td>\n",
       "      <td>0</td>\n",
       "      <td>4</td>\n",
       "      <td>5</td>\n",
       "      <td>10</td>\n",
       "      <td>...</td>\n",
       "      <td>1969</td>\n",
       "      <td>&lt;NA&gt;</td>\n",
       "      <td>98177</td>\n",
       "      <td>47.7612</td>\n",
       "      <td>-122.381</td>\n",
       "      <td>3810</td>\n",
       "      <td>26400</td>\n",
       "      <td>2014-06-04</td>\n",
       "      <td>2010000</td>\n",
       "      <td>17666</td>\n",
       "    </tr>\n",
       "    <tr>\n",
       "      <th>18314</th>\n",
       "      <td>5317100750</td>\n",
       "      <td>4.0</td>\n",
       "      <td>4.75</td>\n",
       "      <td>4575</td>\n",
       "      <td>24085</td>\n",
       "      <td>2.5</td>\n",
       "      <td>0</td>\n",
       "      <td>2</td>\n",
       "      <td>5</td>\n",
       "      <td>10</td>\n",
       "      <td>...</td>\n",
       "      <td>1926</td>\n",
       "      <td>&lt;NA&gt;</td>\n",
       "      <td>98112</td>\n",
       "      <td>47.6263</td>\n",
       "      <td>-122.284</td>\n",
       "      <td>3900</td>\n",
       "      <td>9687</td>\n",
       "      <td>2014-07-11</td>\n",
       "      <td>2920000</td>\n",
       "      <td>18315</td>\n",
       "    </tr>\n",
       "    <tr>\n",
       "      <th>18711</th>\n",
       "      <td>239000155</td>\n",
       "      <td>5.0</td>\n",
       "      <td>4.50</td>\n",
       "      <td>3540</td>\n",
       "      <td>21217</td>\n",
       "      <td>2.0</td>\n",
       "      <td>0</td>\n",
       "      <td>0</td>\n",
       "      <td>4</td>\n",
       "      <td>8</td>\n",
       "      <td>...</td>\n",
       "      <td>1926</td>\n",
       "      <td>&lt;NA&gt;</td>\n",
       "      <td>98188</td>\n",
       "      <td>47.4274</td>\n",
       "      <td>-122.280</td>\n",
       "      <td>1290</td>\n",
       "      <td>12040</td>\n",
       "      <td>2015-01-05</td>\n",
       "      <td>707000</td>\n",
       "      <td>18712</td>\n",
       "    </tr>\n",
       "  </tbody>\n",
       "</table>\n",
       "<p>12 rows × 22 columns</p>\n",
       "</div>"
      ],
      "text/plain": [
       "          prop_id  bedrooms  bathrooms  sqft_living  sqft_lot  floors  \\\n",
       "3018   3377900195       4.0       5.50         6930     45100     1.0   \n",
       "3314   2821049048       4.0       4.25         2360     57514     2.0   \n",
       "5844   3585900500       4.0       4.25         4720     21000     3.0   \n",
       "5961   5249800010       4.0       4.25         6410     43838     2.5   \n",
       "7245   6762700020       6.0       8.00        12050     27600     2.5   \n",
       "7304   6072800170       4.0       4.00         3330     24354     1.0   \n",
       "14172  1333300145       3.0       4.00         4200     30120     2.0   \n",
       "14926  3627800050       5.0       4.00         3760     22763     1.0   \n",
       "15152  3304700130       4.0       4.00         3860     67953     2.0   \n",
       "17665  3585901085       6.0       4.50         3810     28176     1.0   \n",
       "18314  5317100750       4.0       4.75         4575     24085     2.5   \n",
       "18711   239000155       5.0       4.50         3540     21217     2.0   \n",
       "\n",
       "       waterfront  view  condition  grade  ...  yr_built  yr_renovated  \\\n",
       "3018            0     0          4     11  ...      1950          1991   \n",
       "3314            0     0          4      8  ...      1939          <NA>   \n",
       "5844            0     4          5     11  ...      1971          <NA>   \n",
       "5961            0     2          4     12  ...      1906          <NA>   \n",
       "7245            0     3          4     13  ...      1910          1987   \n",
       "7304            0     0          4     10  ...      1961          <NA>   \n",
       "14172           0     2          4     11  ...      1933          <NA>   \n",
       "14926           0     3          4     11  ...      1969          <NA>   \n",
       "15152           0     2          4     12  ...      1927          <NA>   \n",
       "17665           0     4          5     10  ...      1969          <NA>   \n",
       "18314           0     2          5     10  ...      1926          <NA>   \n",
       "18711           0     0          4      8  ...      1926          <NA>   \n",
       "\n",
       "       zipcode      lat     long  sqft_living15  sqft_lot15        date  \\\n",
       "3018     98006  47.5547 -122.144           2560       37766  2014-09-29   \n",
       "3314     98003  47.2843 -122.294           2037       35733  2014-06-03   \n",
       "5844     98177  47.7591 -122.376           3010       20000  2015-04-02   \n",
       "5961     98144  47.5703 -122.280           2270        6630  2014-12-03   \n",
       "7245     98102  47.6298 -122.323           3940        8800  2014-10-13   \n",
       "7304     98006  47.5708 -122.192           3880       25493  2015-04-28   \n",
       "14172    98112  47.6379 -122.311           2760       12200  2015-03-04   \n",
       "14926    98040  47.5333 -122.220           3730       11201  2014-07-15   \n",
       "15152    98177  47.7469 -122.378           4410      128066  2015-01-28   \n",
       "17665    98177  47.7612 -122.381           3810       26400  2014-06-04   \n",
       "18314    98112  47.6263 -122.284           3900        9687  2014-07-11   \n",
       "18711    98188  47.4274 -122.280           1290       12040  2015-01-05   \n",
       "\n",
       "         price transaction_id  \n",
       "3018   2530000           3019  \n",
       "3314    590000           3315  \n",
       "5844   1530000           5845  \n",
       "5961   2730000           5962  \n",
       "7245   7700000           7246  \n",
       "7304   2500000           7305  \n",
       "14172  2230000          14173  \n",
       "14926  1380000          14927  \n",
       "15152  1760000          15153  \n",
       "17665  2010000          17666  \n",
       "18314  2920000          18315  \n",
       "18711   707000          18712  \n",
       "\n",
       "[12 rows x 22 columns]"
      ]
     },
     "execution_count": 124,
     "metadata": {},
     "output_type": "execute_result"
    }
   ],
   "source": [
    "df_jacob_wide = df.query(\"bathrooms >=4 and yr_built < 1975 and waterfront == 0 and sqft_lot >= 20000 and condition >= 4\")\n",
    "\n",
    "df_jacob_wide"
   ]
  },
  {
   "cell_type": "markdown",
   "id": "42417f0e-ba2a-47ed-bb23-753a74bd5237",
   "metadata": {},
   "source": [
    "##### There was the need to manually remove two properties. Despite having the waterfront = 0 characteristic they were situated on the shoreline."
   ]
  },
  {
   "cell_type": "code",
   "execution_count": 125,
   "id": "a1cae126-38fb-448c-8542-3185b8a275e1",
   "metadata": {},
   "outputs": [
    {
     "name": "stderr",
     "output_type": "stream",
     "text": [
      "C:\\Users\\Roland\\AppData\\Local\\Temp\\ipykernel_46444\\1219097397.py:3: SettingWithCopyWarning:\n",
      "\n",
      "\n",
      "A value is trying to be set on a copy of a slice from a DataFrame\n",
      "\n",
      "See the caveats in the documentation: https://pandas.pydata.org/pandas-docs/stable/user_guide/indexing.html#returning-a-view-versus-a-copy\n",
      "\n",
      "C:\\Users\\Roland\\AppData\\Local\\Temp\\ipykernel_46444\\1219097397.py:4: SettingWithCopyWarning:\n",
      "\n",
      "\n",
      "A value is trying to be set on a copy of a slice from a DataFrame\n",
      "\n",
      "See the caveats in the documentation: https://pandas.pydata.org/pandas-docs/stable/user_guide/indexing.html#returning-a-view-versus-a-copy\n",
      "\n"
     ]
    },
    {
     "data": {
      "text/html": [
       "<div>\n",
       "<style scoped>\n",
       "    .dataframe tbody tr th:only-of-type {\n",
       "        vertical-align: middle;\n",
       "    }\n",
       "\n",
       "    .dataframe tbody tr th {\n",
       "        vertical-align: top;\n",
       "    }\n",
       "\n",
       "    .dataframe thead th {\n",
       "        text-align: right;\n",
       "    }\n",
       "</style>\n",
       "<table border=\"1\" class=\"dataframe\">\n",
       "  <thead>\n",
       "    <tr style=\"text-align: right;\">\n",
       "      <th></th>\n",
       "      <th>prop_id</th>\n",
       "      <th>bedrooms</th>\n",
       "      <th>bathrooms</th>\n",
       "      <th>sqft_living</th>\n",
       "      <th>sqft_lot</th>\n",
       "      <th>floors</th>\n",
       "      <th>waterfront</th>\n",
       "      <th>view</th>\n",
       "      <th>condition</th>\n",
       "      <th>grade</th>\n",
       "      <th>...</th>\n",
       "      <th>yr_built</th>\n",
       "      <th>yr_renovated</th>\n",
       "      <th>zipcode</th>\n",
       "      <th>lat</th>\n",
       "      <th>long</th>\n",
       "      <th>sqft_living15</th>\n",
       "      <th>sqft_lot15</th>\n",
       "      <th>date</th>\n",
       "      <th>price</th>\n",
       "      <th>transaction_id</th>\n",
       "    </tr>\n",
       "  </thead>\n",
       "  <tbody>\n",
       "    <tr>\n",
       "      <th>3018</th>\n",
       "      <td>3377900195</td>\n",
       "      <td>4.0</td>\n",
       "      <td>5.50</td>\n",
       "      <td>6930</td>\n",
       "      <td>45100</td>\n",
       "      <td>1.0</td>\n",
       "      <td>0</td>\n",
       "      <td>0</td>\n",
       "      <td>4</td>\n",
       "      <td>11</td>\n",
       "      <td>...</td>\n",
       "      <td>1950</td>\n",
       "      <td>1991</td>\n",
       "      <td>98006</td>\n",
       "      <td>47.5547</td>\n",
       "      <td>-122.144</td>\n",
       "      <td>2560</td>\n",
       "      <td>37766</td>\n",
       "      <td>2014-09-29</td>\n",
       "      <td>2530000</td>\n",
       "      <td>3019</td>\n",
       "    </tr>\n",
       "    <tr>\n",
       "      <th>3314</th>\n",
       "      <td>2821049048</td>\n",
       "      <td>4.0</td>\n",
       "      <td>4.25</td>\n",
       "      <td>2360</td>\n",
       "      <td>57514</td>\n",
       "      <td>2.0</td>\n",
       "      <td>0</td>\n",
       "      <td>0</td>\n",
       "      <td>4</td>\n",
       "      <td>8</td>\n",
       "      <td>...</td>\n",
       "      <td>1939</td>\n",
       "      <td>&lt;NA&gt;</td>\n",
       "      <td>98003</td>\n",
       "      <td>47.2843</td>\n",
       "      <td>-122.294</td>\n",
       "      <td>2037</td>\n",
       "      <td>35733</td>\n",
       "      <td>2014-06-03</td>\n",
       "      <td>590000</td>\n",
       "      <td>3315</td>\n",
       "    </tr>\n",
       "    <tr>\n",
       "      <th>5844</th>\n",
       "      <td>3585900500</td>\n",
       "      <td>4.0</td>\n",
       "      <td>4.25</td>\n",
       "      <td>4720</td>\n",
       "      <td>21000</td>\n",
       "      <td>3.0</td>\n",
       "      <td>0</td>\n",
       "      <td>4</td>\n",
       "      <td>5</td>\n",
       "      <td>11</td>\n",
       "      <td>...</td>\n",
       "      <td>1971</td>\n",
       "      <td>&lt;NA&gt;</td>\n",
       "      <td>98177</td>\n",
       "      <td>47.7591</td>\n",
       "      <td>-122.376</td>\n",
       "      <td>3010</td>\n",
       "      <td>20000</td>\n",
       "      <td>2015-04-02</td>\n",
       "      <td>1530000</td>\n",
       "      <td>5845</td>\n",
       "    </tr>\n",
       "    <tr>\n",
       "      <th>5961</th>\n",
       "      <td>5249800010</td>\n",
       "      <td>4.0</td>\n",
       "      <td>4.25</td>\n",
       "      <td>6410</td>\n",
       "      <td>43838</td>\n",
       "      <td>2.5</td>\n",
       "      <td>0</td>\n",
       "      <td>2</td>\n",
       "      <td>4</td>\n",
       "      <td>12</td>\n",
       "      <td>...</td>\n",
       "      <td>1906</td>\n",
       "      <td>&lt;NA&gt;</td>\n",
       "      <td>98144</td>\n",
       "      <td>47.5703</td>\n",
       "      <td>-122.280</td>\n",
       "      <td>2270</td>\n",
       "      <td>6630</td>\n",
       "      <td>2014-12-03</td>\n",
       "      <td>2730000</td>\n",
       "      <td>5962</td>\n",
       "    </tr>\n",
       "    <tr>\n",
       "      <th>7245</th>\n",
       "      <td>6762700020</td>\n",
       "      <td>6.0</td>\n",
       "      <td>8.00</td>\n",
       "      <td>12050</td>\n",
       "      <td>27600</td>\n",
       "      <td>2.5</td>\n",
       "      <td>0</td>\n",
       "      <td>3</td>\n",
       "      <td>4</td>\n",
       "      <td>13</td>\n",
       "      <td>...</td>\n",
       "      <td>1910</td>\n",
       "      <td>1987</td>\n",
       "      <td>98102</td>\n",
       "      <td>47.6298</td>\n",
       "      <td>-122.323</td>\n",
       "      <td>3940</td>\n",
       "      <td>8800</td>\n",
       "      <td>2014-10-13</td>\n",
       "      <td>7700000</td>\n",
       "      <td>7246</td>\n",
       "    </tr>\n",
       "    <tr>\n",
       "      <th>14172</th>\n",
       "      <td>1333300145</td>\n",
       "      <td>3.0</td>\n",
       "      <td>4.00</td>\n",
       "      <td>4200</td>\n",
       "      <td>30120</td>\n",
       "      <td>2.0</td>\n",
       "      <td>0</td>\n",
       "      <td>2</td>\n",
       "      <td>4</td>\n",
       "      <td>11</td>\n",
       "      <td>...</td>\n",
       "      <td>1933</td>\n",
       "      <td>&lt;NA&gt;</td>\n",
       "      <td>98112</td>\n",
       "      <td>47.6379</td>\n",
       "      <td>-122.311</td>\n",
       "      <td>2760</td>\n",
       "      <td>12200</td>\n",
       "      <td>2015-03-04</td>\n",
       "      <td>2230000</td>\n",
       "      <td>14173</td>\n",
       "    </tr>\n",
       "    <tr>\n",
       "      <th>14926</th>\n",
       "      <td>3627800050</td>\n",
       "      <td>5.0</td>\n",
       "      <td>4.00</td>\n",
       "      <td>3760</td>\n",
       "      <td>22763</td>\n",
       "      <td>1.0</td>\n",
       "      <td>0</td>\n",
       "      <td>3</td>\n",
       "      <td>4</td>\n",
       "      <td>11</td>\n",
       "      <td>...</td>\n",
       "      <td>1969</td>\n",
       "      <td>&lt;NA&gt;</td>\n",
       "      <td>98040</td>\n",
       "      <td>47.5333</td>\n",
       "      <td>-122.220</td>\n",
       "      <td>3730</td>\n",
       "      <td>11201</td>\n",
       "      <td>2014-07-15</td>\n",
       "      <td>1380000</td>\n",
       "      <td>14927</td>\n",
       "    </tr>\n",
       "    <tr>\n",
       "      <th>15152</th>\n",
       "      <td>3304700130</td>\n",
       "      <td>4.0</td>\n",
       "      <td>4.00</td>\n",
       "      <td>3860</td>\n",
       "      <td>67953</td>\n",
       "      <td>2.0</td>\n",
       "      <td>0</td>\n",
       "      <td>2</td>\n",
       "      <td>4</td>\n",
       "      <td>12</td>\n",
       "      <td>...</td>\n",
       "      <td>1927</td>\n",
       "      <td>&lt;NA&gt;</td>\n",
       "      <td>98177</td>\n",
       "      <td>47.7469</td>\n",
       "      <td>-122.378</td>\n",
       "      <td>4410</td>\n",
       "      <td>128066</td>\n",
       "      <td>2015-01-28</td>\n",
       "      <td>1760000</td>\n",
       "      <td>15153</td>\n",
       "    </tr>\n",
       "    <tr>\n",
       "      <th>17665</th>\n",
       "      <td>3585901085</td>\n",
       "      <td>6.0</td>\n",
       "      <td>4.50</td>\n",
       "      <td>3810</td>\n",
       "      <td>28176</td>\n",
       "      <td>1.0</td>\n",
       "      <td>0</td>\n",
       "      <td>4</td>\n",
       "      <td>5</td>\n",
       "      <td>10</td>\n",
       "      <td>...</td>\n",
       "      <td>1969</td>\n",
       "      <td>&lt;NA&gt;</td>\n",
       "      <td>98177</td>\n",
       "      <td>47.7612</td>\n",
       "      <td>-122.381</td>\n",
       "      <td>3810</td>\n",
       "      <td>26400</td>\n",
       "      <td>2014-06-04</td>\n",
       "      <td>2010000</td>\n",
       "      <td>17666</td>\n",
       "    </tr>\n",
       "    <tr>\n",
       "      <th>18314</th>\n",
       "      <td>5317100750</td>\n",
       "      <td>4.0</td>\n",
       "      <td>4.75</td>\n",
       "      <td>4575</td>\n",
       "      <td>24085</td>\n",
       "      <td>2.5</td>\n",
       "      <td>0</td>\n",
       "      <td>2</td>\n",
       "      <td>5</td>\n",
       "      <td>10</td>\n",
       "      <td>...</td>\n",
       "      <td>1926</td>\n",
       "      <td>&lt;NA&gt;</td>\n",
       "      <td>98112</td>\n",
       "      <td>47.6263</td>\n",
       "      <td>-122.284</td>\n",
       "      <td>3900</td>\n",
       "      <td>9687</td>\n",
       "      <td>2014-07-11</td>\n",
       "      <td>2920000</td>\n",
       "      <td>18315</td>\n",
       "    </tr>\n",
       "  </tbody>\n",
       "</table>\n",
       "<p>10 rows × 22 columns</p>\n",
       "</div>"
      ],
      "text/plain": [
       "          prop_id  bedrooms  bathrooms  sqft_living  sqft_lot  floors  \\\n",
       "3018   3377900195       4.0       5.50         6930     45100     1.0   \n",
       "3314   2821049048       4.0       4.25         2360     57514     2.0   \n",
       "5844   3585900500       4.0       4.25         4720     21000     3.0   \n",
       "5961   5249800010       4.0       4.25         6410     43838     2.5   \n",
       "7245   6762700020       6.0       8.00        12050     27600     2.5   \n",
       "14172  1333300145       3.0       4.00         4200     30120     2.0   \n",
       "14926  3627800050       5.0       4.00         3760     22763     1.0   \n",
       "15152  3304700130       4.0       4.00         3860     67953     2.0   \n",
       "17665  3585901085       6.0       4.50         3810     28176     1.0   \n",
       "18314  5317100750       4.0       4.75         4575     24085     2.5   \n",
       "\n",
       "       waterfront  view  condition  grade  ...  yr_built  yr_renovated  \\\n",
       "3018            0     0          4     11  ...      1950          1991   \n",
       "3314            0     0          4      8  ...      1939          <NA>   \n",
       "5844            0     4          5     11  ...      1971          <NA>   \n",
       "5961            0     2          4     12  ...      1906          <NA>   \n",
       "7245            0     3          4     13  ...      1910          1987   \n",
       "14172           0     2          4     11  ...      1933          <NA>   \n",
       "14926           0     3          4     11  ...      1969          <NA>   \n",
       "15152           0     2          4     12  ...      1927          <NA>   \n",
       "17665           0     4          5     10  ...      1969          <NA>   \n",
       "18314           0     2          5     10  ...      1926          <NA>   \n",
       "\n",
       "       zipcode      lat     long  sqft_living15  sqft_lot15        date  \\\n",
       "3018     98006  47.5547 -122.144           2560       37766  2014-09-29   \n",
       "3314     98003  47.2843 -122.294           2037       35733  2014-06-03   \n",
       "5844     98177  47.7591 -122.376           3010       20000  2015-04-02   \n",
       "5961     98144  47.5703 -122.280           2270        6630  2014-12-03   \n",
       "7245     98102  47.6298 -122.323           3940        8800  2014-10-13   \n",
       "14172    98112  47.6379 -122.311           2760       12200  2015-03-04   \n",
       "14926    98040  47.5333 -122.220           3730       11201  2014-07-15   \n",
       "15152    98177  47.7469 -122.378           4410      128066  2015-01-28   \n",
       "17665    98177  47.7612 -122.381           3810       26400  2014-06-04   \n",
       "18314    98112  47.6263 -122.284           3900        9687  2014-07-11   \n",
       "\n",
       "         price transaction_id  \n",
       "3018   2530000           3019  \n",
       "3314    590000           3315  \n",
       "5844   1530000           5845  \n",
       "5961   2730000           5962  \n",
       "7245   7700000           7246  \n",
       "14172  2230000          14173  \n",
       "14926  1380000          14927  \n",
       "15152  1760000          15153  \n",
       "17665  2010000          17666  \n",
       "18314  2920000          18315  \n",
       "\n",
       "[10 rows x 22 columns]"
      ]
     },
     "execution_count": 125,
     "metadata": {},
     "output_type": "execute_result"
    }
   ],
   "source": [
    "# prop_id 6072800170 is falsly annotated and is on the shoreline --> drop it\n",
    "# prop_id 239000155 is falsly annotated, it lies on a lake --> drop it\n",
    "df_jacob_wide.drop([7304], inplace=True)\n",
    "df_jacob_wide.drop([18711], inplace=True)\n",
    "df_jacob_wide"
   ]
  },
  {
   "cell_type": "markdown",
   "id": "2876a25a-fb97-4b0b-934b-0f3856ad7e63",
   "metadata": {},
   "source": [
    "##### The locations of the ten remaining properties were shown on a map and this will be presented to the client."
   ]
  },
  {
   "cell_type": "code",
   "execution_count": 147,
   "id": "c19e1ff2-dca6-4089-8c3e-c530515558f9",
   "metadata": {},
   "outputs": [
    {
     "data": {
      "application/vnd.plotly.v1+json": {
       "config": {
        "plotlyServerURL": "https://plot.ly"
       },
       "data": [
        {
         "hovertemplate": "<b>%{hovertext}</b><br><br>lat=%{lat}<br>long=%{lon}<extra></extra>",
         "hovertext": {
          "_inputArray": {
           "0": 3377900195,
           "1": 2821049048,
           "2": 3585900500,
           "3": 5249800010,
           "4": 6762700020,
           "5": 1333300145,
           "6": 3627800050,
           "7": 3304700130,
           "8": 3585901085,
           "9": 5317100750,
           "bdata": "AABgVNUq6UEAAABbuQTlQQAAgPqPt+pBAACgdJmO80EAAEDPaTH5QQAAQOwi3tNBAABAvnoH60EAAEAcN5/oQQAAoEOQt+pBAADgTMjO80E=",
           "dtype": "f8",
           "shape": "10"
          },
          "bdata": "AABgVNUq6UEAAABbuQTlQQAAgPqPt+pBAACgdJmO80EAAEDPaTH5QQAAQOwi3tNBAABAvnoH60EAAEAcN5/oQQAAoEOQt+pBAADgTMjO80E=",
          "dtype": "f8"
         },
         "lat": {
          "_inputArray": {
           "0": 47.5547,
           "1": 47.2843,
           "2": 47.7591,
           "3": 47.5703,
           "4": 47.6298,
           "5": 47.6379,
           "6": 47.5333,
           "7": 47.7469,
           "8": 47.7612,
           "9": 47.6263,
           "bdata": "rIvbaADHR0BcIEHxY6RHQGEyVTAq4UdAVHQkl//IR0CqglFJndBHQCgPC7Wm0UdAeHqlLEPER0DysFBrmt9HQIzbaABv4UdADr4wmSrQR0A=",
           "dtype": "f8",
           "shape": "10"
          },
          "bdata": "rIvbaADHR0BcIEHxY6RHQGEyVTAq4UdAVHQkl//IR0CqglFJndBHQCgPC7Wm0UdAeHqlLEPER0DysFBrmt9HQIzbaABv4UdADr4wmSrQR0A=",
          "dtype": "f8"
         },
         "legendgroup": "",
         "lon": {
          "_inputArray": {
           "0": -122.144,
           "1": -122.294,
           "2": -122.376,
           "3": -122.28,
           "4": -122.323,
           "5": -122.311,
           "6": -122.22,
           "7": -122.378,
           "8": -122.381,
           "9": -122.284,
           "bdata": "8KfGSzeJXsCJQWDl0JJewPLSTWIQmF7AUrgeheuRXsDpJjEIrJRewJZDi2znk17ArkfhehSOXsDVeOkmMZhewKrx0k1imF7AGQRWDi2SXsA=",
           "dtype": "f8",
           "shape": "10"
          },
          "bdata": "8KfGSzeJXsCJQWDl0JJewPLSTWIQmF7AUrgeheuRXsDpJjEIrJRewJZDi2znk17ArkfhehSOXsDVeOkmMZhewKrx0k1imF7AGQRWDi2SXsA=",
          "dtype": "f8"
         },
         "marker": {
          "color": "blue",
          "size": 9
         },
         "mode": "markers",
         "name": "",
         "showlegend": false,
         "subplot": "map",
         "type": "scattermap"
        }
       ],
       "layout": {
        "dragmode": "pan",
        "height": 800,
        "legend": {
         "tracegroupgap": 0
        },
        "map": {
         "bearing": 0,
         "center": {
          "lat": 47.6833850853688,
          "lon": -122.06823396353008
         },
         "domain": {
          "x": [
           0,
           1
          ],
          "y": [
           0,
           1
          ]
         },
         "pitch": 0,
         "zoom": 8.988705034993457
        },
        "mapbox": {
         "center": {
          "lat": 47.61038,
          "lon": -122.29910000000002
         },
         "style": "open-street-map",
         "zoom": 9
        },
        "margin": {
         "b": 0,
         "l": 0,
         "r": 0,
         "t": 0
        },
        "template": {
         "data": {
          "bar": [
           {
            "error_x": {
             "color": "#2a3f5f"
            },
            "error_y": {
             "color": "#2a3f5f"
            },
            "marker": {
             "line": {
              "color": "#E5ECF6",
              "width": 0.5
             },
             "pattern": {
              "fillmode": "overlay",
              "size": 10,
              "solidity": 0.2
             }
            },
            "type": "bar"
           }
          ],
          "barpolar": [
           {
            "marker": {
             "line": {
              "color": "#E5ECF6",
              "width": 0.5
             },
             "pattern": {
              "fillmode": "overlay",
              "size": 10,
              "solidity": 0.2
             }
            },
            "type": "barpolar"
           }
          ],
          "carpet": [
           {
            "aaxis": {
             "endlinecolor": "#2a3f5f",
             "gridcolor": "white",
             "linecolor": "white",
             "minorgridcolor": "white",
             "startlinecolor": "#2a3f5f"
            },
            "baxis": {
             "endlinecolor": "#2a3f5f",
             "gridcolor": "white",
             "linecolor": "white",
             "minorgridcolor": "white",
             "startlinecolor": "#2a3f5f"
            },
            "type": "carpet"
           }
          ],
          "choropleth": [
           {
            "colorbar": {
             "outlinewidth": 0,
             "ticks": ""
            },
            "type": "choropleth"
           }
          ],
          "contour": [
           {
            "colorbar": {
             "outlinewidth": 0,
             "ticks": ""
            },
            "colorscale": [
             [
              0,
              "#0d0887"
             ],
             [
              0.1111111111111111,
              "#46039f"
             ],
             [
              0.2222222222222222,
              "#7201a8"
             ],
             [
              0.3333333333333333,
              "#9c179e"
             ],
             [
              0.4444444444444444,
              "#bd3786"
             ],
             [
              0.5555555555555556,
              "#d8576b"
             ],
             [
              0.6666666666666666,
              "#ed7953"
             ],
             [
              0.7777777777777778,
              "#fb9f3a"
             ],
             [
              0.8888888888888888,
              "#fdca26"
             ],
             [
              1,
              "#f0f921"
             ]
            ],
            "type": "contour"
           }
          ],
          "contourcarpet": [
           {
            "colorbar": {
             "outlinewidth": 0,
             "ticks": ""
            },
            "type": "contourcarpet"
           }
          ],
          "heatmap": [
           {
            "colorbar": {
             "outlinewidth": 0,
             "ticks": ""
            },
            "colorscale": [
             [
              0,
              "#0d0887"
             ],
             [
              0.1111111111111111,
              "#46039f"
             ],
             [
              0.2222222222222222,
              "#7201a8"
             ],
             [
              0.3333333333333333,
              "#9c179e"
             ],
             [
              0.4444444444444444,
              "#bd3786"
             ],
             [
              0.5555555555555556,
              "#d8576b"
             ],
             [
              0.6666666666666666,
              "#ed7953"
             ],
             [
              0.7777777777777778,
              "#fb9f3a"
             ],
             [
              0.8888888888888888,
              "#fdca26"
             ],
             [
              1,
              "#f0f921"
             ]
            ],
            "type": "heatmap"
           }
          ],
          "histogram": [
           {
            "marker": {
             "pattern": {
              "fillmode": "overlay",
              "size": 10,
              "solidity": 0.2
             }
            },
            "type": "histogram"
           }
          ],
          "histogram2d": [
           {
            "colorbar": {
             "outlinewidth": 0,
             "ticks": ""
            },
            "colorscale": [
             [
              0,
              "#0d0887"
             ],
             [
              0.1111111111111111,
              "#46039f"
             ],
             [
              0.2222222222222222,
              "#7201a8"
             ],
             [
              0.3333333333333333,
              "#9c179e"
             ],
             [
              0.4444444444444444,
              "#bd3786"
             ],
             [
              0.5555555555555556,
              "#d8576b"
             ],
             [
              0.6666666666666666,
              "#ed7953"
             ],
             [
              0.7777777777777778,
              "#fb9f3a"
             ],
             [
              0.8888888888888888,
              "#fdca26"
             ],
             [
              1,
              "#f0f921"
             ]
            ],
            "type": "histogram2d"
           }
          ],
          "histogram2dcontour": [
           {
            "colorbar": {
             "outlinewidth": 0,
             "ticks": ""
            },
            "colorscale": [
             [
              0,
              "#0d0887"
             ],
             [
              0.1111111111111111,
              "#46039f"
             ],
             [
              0.2222222222222222,
              "#7201a8"
             ],
             [
              0.3333333333333333,
              "#9c179e"
             ],
             [
              0.4444444444444444,
              "#bd3786"
             ],
             [
              0.5555555555555556,
              "#d8576b"
             ],
             [
              0.6666666666666666,
              "#ed7953"
             ],
             [
              0.7777777777777778,
              "#fb9f3a"
             ],
             [
              0.8888888888888888,
              "#fdca26"
             ],
             [
              1,
              "#f0f921"
             ]
            ],
            "type": "histogram2dcontour"
           }
          ],
          "mesh3d": [
           {
            "colorbar": {
             "outlinewidth": 0,
             "ticks": ""
            },
            "type": "mesh3d"
           }
          ],
          "parcoords": [
           {
            "line": {
             "colorbar": {
              "outlinewidth": 0,
              "ticks": ""
             }
            },
            "type": "parcoords"
           }
          ],
          "pie": [
           {
            "automargin": true,
            "type": "pie"
           }
          ],
          "scatter": [
           {
            "fillpattern": {
             "fillmode": "overlay",
             "size": 10,
             "solidity": 0.2
            },
            "type": "scatter"
           }
          ],
          "scatter3d": [
           {
            "line": {
             "colorbar": {
              "outlinewidth": 0,
              "ticks": ""
             }
            },
            "marker": {
             "colorbar": {
              "outlinewidth": 0,
              "ticks": ""
             }
            },
            "type": "scatter3d"
           }
          ],
          "scattercarpet": [
           {
            "marker": {
             "colorbar": {
              "outlinewidth": 0,
              "ticks": ""
             }
            },
            "type": "scattercarpet"
           }
          ],
          "scattergeo": [
           {
            "marker": {
             "colorbar": {
              "outlinewidth": 0,
              "ticks": ""
             }
            },
            "type": "scattergeo"
           }
          ],
          "scattergl": [
           {
            "marker": {
             "colorbar": {
              "outlinewidth": 0,
              "ticks": ""
             }
            },
            "type": "scattergl"
           }
          ],
          "scattermap": [
           {
            "marker": {
             "colorbar": {
              "outlinewidth": 0,
              "ticks": ""
             }
            },
            "type": "scattermap"
           }
          ],
          "scattermapbox": [
           {
            "marker": {
             "colorbar": {
              "outlinewidth": 0,
              "ticks": ""
             }
            },
            "type": "scattermapbox"
           }
          ],
          "scatterpolar": [
           {
            "marker": {
             "colorbar": {
              "outlinewidth": 0,
              "ticks": ""
             }
            },
            "type": "scatterpolar"
           }
          ],
          "scatterpolargl": [
           {
            "marker": {
             "colorbar": {
              "outlinewidth": 0,
              "ticks": ""
             }
            },
            "type": "scatterpolargl"
           }
          ],
          "scatterternary": [
           {
            "marker": {
             "colorbar": {
              "outlinewidth": 0,
              "ticks": ""
             }
            },
            "type": "scatterternary"
           }
          ],
          "surface": [
           {
            "colorbar": {
             "outlinewidth": 0,
             "ticks": ""
            },
            "colorscale": [
             [
              0,
              "#0d0887"
             ],
             [
              0.1111111111111111,
              "#46039f"
             ],
             [
              0.2222222222222222,
              "#7201a8"
             ],
             [
              0.3333333333333333,
              "#9c179e"
             ],
             [
              0.4444444444444444,
              "#bd3786"
             ],
             [
              0.5555555555555556,
              "#d8576b"
             ],
             [
              0.6666666666666666,
              "#ed7953"
             ],
             [
              0.7777777777777778,
              "#fb9f3a"
             ],
             [
              0.8888888888888888,
              "#fdca26"
             ],
             [
              1,
              "#f0f921"
             ]
            ],
            "type": "surface"
           }
          ],
          "table": [
           {
            "cells": {
             "fill": {
              "color": "#EBF0F8"
             },
             "line": {
              "color": "white"
             }
            },
            "header": {
             "fill": {
              "color": "#C8D4E3"
             },
             "line": {
              "color": "white"
             }
            },
            "type": "table"
           }
          ]
         },
         "layout": {
          "annotationdefaults": {
           "arrowcolor": "#2a3f5f",
           "arrowhead": 0,
           "arrowwidth": 1
          },
          "autotypenumbers": "strict",
          "coloraxis": {
           "colorbar": {
            "outlinewidth": 0,
            "ticks": ""
           }
          },
          "colorscale": {
           "diverging": [
            [
             0,
             "#8e0152"
            ],
            [
             0.1,
             "#c51b7d"
            ],
            [
             0.2,
             "#de77ae"
            ],
            [
             0.3,
             "#f1b6da"
            ],
            [
             0.4,
             "#fde0ef"
            ],
            [
             0.5,
             "#f7f7f7"
            ],
            [
             0.6,
             "#e6f5d0"
            ],
            [
             0.7,
             "#b8e186"
            ],
            [
             0.8,
             "#7fbc41"
            ],
            [
             0.9,
             "#4d9221"
            ],
            [
             1,
             "#276419"
            ]
           ],
           "sequential": [
            [
             0,
             "#0d0887"
            ],
            [
             0.1111111111111111,
             "#46039f"
            ],
            [
             0.2222222222222222,
             "#7201a8"
            ],
            [
             0.3333333333333333,
             "#9c179e"
            ],
            [
             0.4444444444444444,
             "#bd3786"
            ],
            [
             0.5555555555555556,
             "#d8576b"
            ],
            [
             0.6666666666666666,
             "#ed7953"
            ],
            [
             0.7777777777777778,
             "#fb9f3a"
            ],
            [
             0.8888888888888888,
             "#fdca26"
            ],
            [
             1,
             "#f0f921"
            ]
           ],
           "sequentialminus": [
            [
             0,
             "#0d0887"
            ],
            [
             0.1111111111111111,
             "#46039f"
            ],
            [
             0.2222222222222222,
             "#7201a8"
            ],
            [
             0.3333333333333333,
             "#9c179e"
            ],
            [
             0.4444444444444444,
             "#bd3786"
            ],
            [
             0.5555555555555556,
             "#d8576b"
            ],
            [
             0.6666666666666666,
             "#ed7953"
            ],
            [
             0.7777777777777778,
             "#fb9f3a"
            ],
            [
             0.8888888888888888,
             "#fdca26"
            ],
            [
             1,
             "#f0f921"
            ]
           ]
          },
          "colorway": [
           "#636efa",
           "#EF553B",
           "#00cc96",
           "#ab63fa",
           "#FFA15A",
           "#19d3f3",
           "#FF6692",
           "#B6E880",
           "#FF97FF",
           "#FECB52"
          ],
          "font": {
           "color": "#2a3f5f"
          },
          "geo": {
           "bgcolor": "white",
           "lakecolor": "white",
           "landcolor": "#E5ECF6",
           "showlakes": true,
           "showland": true,
           "subunitcolor": "white"
          },
          "hoverlabel": {
           "align": "left"
          },
          "hovermode": "closest",
          "mapbox": {
           "style": "light"
          },
          "paper_bgcolor": "white",
          "plot_bgcolor": "#E5ECF6",
          "polar": {
           "angularaxis": {
            "gridcolor": "white",
            "linecolor": "white",
            "ticks": ""
           },
           "bgcolor": "#E5ECF6",
           "radialaxis": {
            "gridcolor": "white",
            "linecolor": "white",
            "ticks": ""
           }
          },
          "scene": {
           "xaxis": {
            "backgroundcolor": "#E5ECF6",
            "gridcolor": "white",
            "gridwidth": 2,
            "linecolor": "white",
            "showbackground": true,
            "ticks": "",
            "zerolinecolor": "white"
           },
           "yaxis": {
            "backgroundcolor": "#E5ECF6",
            "gridcolor": "white",
            "gridwidth": 2,
            "linecolor": "white",
            "showbackground": true,
            "ticks": "",
            "zerolinecolor": "white"
           },
           "zaxis": {
            "backgroundcolor": "#E5ECF6",
            "gridcolor": "white",
            "gridwidth": 2,
            "linecolor": "white",
            "showbackground": true,
            "ticks": "",
            "zerolinecolor": "white"
           }
          },
          "shapedefaults": {
           "line": {
            "color": "#2a3f5f"
           }
          },
          "ternary": {
           "aaxis": {
            "gridcolor": "white",
            "linecolor": "white",
            "ticks": ""
           },
           "baxis": {
            "gridcolor": "white",
            "linecolor": "white",
            "ticks": ""
           },
           "bgcolor": "#E5ECF6",
           "caxis": {
            "gridcolor": "white",
            "linecolor": "white",
            "ticks": ""
           }
          },
          "title": {
           "x": 0.05
          },
          "xaxis": {
           "automargin": true,
           "gridcolor": "white",
           "linecolor": "white",
           "ticks": "",
           "title": {
            "standoff": 15
           },
           "zerolinecolor": "white",
           "zerolinewidth": 2
          },
          "yaxis": {
           "automargin": true,
           "gridcolor": "white",
           "linecolor": "white",
           "ticks": "",
           "title": {
            "standoff": 15
           },
           "zerolinecolor": "white",
           "zerolinewidth": 2
          }
         }
        },
        "width": 800
       }
      }
     },
     "metadata": {},
     "output_type": "display_data"
    }
   ],
   "source": [
    "fig = px.scatter_map(df_jacob_wide, \n",
    "                        lat=\"lat\", \n",
    "                        lon=\"long\", \n",
    "                        hover_name=\"prop_id\", \n",
    "                        color_discrete_sequence=['blue'],\n",
    "                        zoom=9, \n",
    "                        height=800,\n",
    "                        width=800)\n",
    "\n",
    "fig.update_traces(marker=dict(size=9),\n",
    "                  selector=dict(mode='markers'))\n",
    "\n",
    "fig.update_layout(mapbox_style=\"open-street-map\")\n",
    "fig.update_layout(margin={\"r\":0,\"t\":0,\"l\":0,\"b\":0})\n",
    "fig.show()"
   ]
  },
  {
   "cell_type": "markdown",
   "id": "10d1c6b4-006e-4a56-8380-cc16d5415682",
   "metadata": {},
   "source": [
    "##### With the help of two websites, I identified 19 private(!) golf courses in the Seattle area and converted their addresses to GPS coordinates. This data was combined in a csv-file, so that the data could be readily accessed.\n",
    "---\n",
    "##### Then the dataframe of the ten remaining properties was combined with the dataframe of the golf courses. Then the distance between the properties and all golf courses was calculated (linear distance, not road distance - this is a drawback!). Finally, the distances between a property and its five closest golf courses was averaged and used as the final ranking criterium.  \n",
    "---  \n",
    "The formula to calculate the distances was adapted from stack overflow. By now there is a library (H3?) which can be used with pandas, which would do the same. A few distances were checked for accuracy by Google maps.  \n",
    "\n",
    "---\n",
    "But first a dataframe was created which consisted of the combined locations of the properties and the golf courses, so that the figure can be shown to the client.\n"
   ]
  },
  {
   "cell_type": "code",
   "execution_count": 168,
   "id": "a6ad6016-992f-48ba-bc33-35eb000d5b27",
   "metadata": {},
   "outputs": [],
   "source": [
    "df_golf_courses_temp = pd.read_csv('data/golf_clubs.csv', sep=\";\")\n",
    "df_golf_courses_temp.rename(columns={'g_lat': 'lat', 'g_long': 'long'}, inplace=True)\n",
    "df_dist_golf_plot = pd.concat([df_jacob_wide_shrunk, df_golf_courses_temp], ignore_index=True, sort=False)\n",
    "df_dist_golf_plot.loc[df_dist_golf_plot.prop_id > 0, 'Location'] = \"Property\"\n",
    "df_dist_golf_plot.loc[df_dist_golf_plot.prop_id.isna(), 'Location'] = \"Golf course\""
   ]
  },
  {
   "cell_type": "code",
   "execution_count": 171,
   "id": "5f2193c2-d30e-44e3-bd2c-6b7855328d36",
   "metadata": {},
   "outputs": [
    {
     "data": {
      "application/vnd.plotly.v1+json": {
       "config": {
        "plotlyServerURL": "https://plot.ly"
       },
       "data": [
        {
         "hovertemplate": "<b>%{hovertext}</b><br><br>Location=Property<br>lat=%{lat}<br>long=%{lon}<extra></extra>",
         "hovertext": {
          "_inputArray": {
           "0": 3377900195,
           "1": 2821049048,
           "2": 3585900500,
           "3": 5249800010,
           "4": 6762700020,
           "5": 1333300145,
           "6": 3627800050,
           "7": 3304700130,
           "8": 3585901085,
           "9": 5317100750,
           "bdata": "AABgVNUq6UEAAABbuQTlQQAAgPqPt+pBAACgdJmO80EAAEDPaTH5QQAAQOwi3tNBAABAvnoH60EAAEAcN5/oQQAAoEOQt+pBAADgTMjO80E=",
           "dtype": "f8",
           "shape": "10"
          },
          "bdata": "AABgVNUq6UEAAABbuQTlQQAAgPqPt+pBAACgdJmO80EAAEDPaTH5QQAAQOwi3tNBAABAvnoH60EAAEAcN5/oQQAAoEOQt+pBAADgTMjO80E=",
          "dtype": "f8"
         },
         "lat": {
          "_inputArray": {
           "0": 47.5547,
           "1": 47.2843,
           "2": 47.7591,
           "3": 47.5703,
           "4": 47.6298,
           "5": 47.6379,
           "6": 47.5333,
           "7": 47.7469,
           "8": 47.7612,
           "9": 47.6263,
           "bdata": "rIvbaADHR0BcIEHxY6RHQGEyVTAq4UdAVHQkl//IR0CqglFJndBHQCgPC7Wm0UdAeHqlLEPER0DysFBrmt9HQIzbaABv4UdADr4wmSrQR0A=",
           "dtype": "f8",
           "shape": "10"
          },
          "bdata": "rIvbaADHR0BcIEHxY6RHQGEyVTAq4UdAVHQkl//IR0CqglFJndBHQCgPC7Wm0UdAeHqlLEPER0DysFBrmt9HQIzbaABv4UdADr4wmSrQR0A=",
          "dtype": "f8"
         },
         "legendgroup": "Property",
         "lon": {
          "_inputArray": {
           "0": -122.144,
           "1": -122.294,
           "2": -122.376,
           "3": -122.28,
           "4": -122.323,
           "5": -122.311,
           "6": -122.22,
           "7": -122.378,
           "8": -122.381,
           "9": -122.284,
           "bdata": "8KfGSzeJXsCJQWDl0JJewPLSTWIQmF7AUrgeheuRXsDpJjEIrJRewJZDi2znk17ArkfhehSOXsDVeOkmMZhewKrx0k1imF7AGQRWDi2SXsA=",
           "dtype": "f8",
           "shape": "10"
          },
          "bdata": "8KfGSzeJXsCJQWDl0JJewPLSTWIQmF7AUrgeheuRXsDpJjEIrJRewJZDi2znk17ArkfhehSOXsDVeOkmMZhewKrx0k1imF7AGQRWDi2SXsA=",
          "dtype": "f8"
         },
         "marker": {
          "color": "#636efa",
          "size": 9
         },
         "mode": "markers",
         "name": "Property",
         "showlegend": true,
         "subplot": "map",
         "type": "scattermap"
        },
        {
         "hovertemplate": "<b>%{hovertext}</b><br><br>Location=Golf course<br>lat=%{lat}<br>long=%{lon}<extra></extra>",
         "hovertext": {
          "_inputArray": {
           "0": null,
           "1": null,
           "10": null,
           "11": null,
           "12": null,
           "13": null,
           "14": null,
           "15": null,
           "16": null,
           "17": null,
           "18": null,
           "2": null,
           "3": null,
           "4": null,
           "5": null,
           "6": null,
           "7": null,
           "8": null,
           "9": null,
           "bdata": "AAAAAAAA+H8AAAAAAAD4fwAAAAAAAPh/AAAAAAAA+H8AAAAAAAD4fwAAAAAAAPh/AAAAAAAA+H8AAAAAAAD4fwAAAAAAAPh/AAAAAAAA+H8AAAAAAAD4fwAAAAAAAPh/AAAAAAAA+H8AAAAAAAD4fwAAAAAAAPh/AAAAAAAA+H8AAAAAAAD4fwAAAAAAAPh/AAAAAAAA+H8=",
           "dtype": "f8",
           "shape": "19"
          },
          "bdata": "AAAAAAAA+H8AAAAAAAD4fwAAAAAAAPh/AAAAAAAA+H8AAAAAAAD4fwAAAAAAAPh/AAAAAAAA+H8AAAAAAAD4fwAAAAAAAPh/AAAAAAAA+H8AAAAAAAD4fwAAAAAAAPh/AAAAAAAA+H8AAAAAAAD4fwAAAAAAAPh/AAAAAAAA+H8AAAAAAAD4fwAAAAAAAPh/AAAAAAAA+H8=",
          "dtype": "f8"
         },
         "lat": {
          "_inputArray": {
           "0": 47.504146,
           "1": 47.50522,
           "10": 47.63490676879883,
           "11": 47.4500155,
           "12": 47.7226693,
           "13": 47.609567,
           "14": 47.5896491,
           "15": 47.5850219,
           "16": 47.8571728,
           "17": 47.312835,
           "18": 47.3110044,
           "2": 47.688977,
           "3": 47.740399,
           "4": 47.622417,
           "5": 47.6085094,
           "6": 47.6322286,
           "7": 47.621826,
           "8": 47.7503466,
           "9": 47.6313903,
           "bdata": "YTQr24fAR0B/pIgMq8BHQB1Z+WUw2EdA3H75ZMXeR0C6vDlcq89HQIAn0qLjzUdARUzk3ezQR0C45o7+l89HQBjVfVsL4EdAfcG4ZdHQR0AAAACgRNFHQLeYnxuauUdAX6l4bYDcR0BE3JxKBs5HQNROKJ95y0dAzvhj/+HKR0CogpvWt+1HQKcFL/oKqEdAwHT//c6nR0A=",
           "dtype": "f8",
           "shape": "19"
          },
          "bdata": "YTQr24fAR0B/pIgMq8BHQB1Z+WUw2EdA3H75ZMXeR0C6vDlcq89HQIAn0qLjzUdARUzk3ezQR0C45o7+l89HQBjVfVsL4EdAfcG4ZdHQR0AAAACgRNFHQLeYnxuauUdAX6l4bYDcR0BE3JxKBs5HQNROKJ95y0dAzvhj/+HKR0CogpvWt+1HQKcFL/oKqEdAwHT//c6nR0A=",
          "dtype": "f8"
         },
         "legendgroup": "Golf course",
         "lon": {
          "_inputArray": {
           "0": -122.319713,
           "1": -122.30772,
           "10": -122.05770111083984,
           "11": -122.1529234,
           "12": -122.0666778,
           "13": -121.9967612,
           "14": -122.701719,
           "15": -121.9557189,
           "16": -122.2073369,
           "17": -122.3791181,
           "18": -122.3067356,
           "2": -122.269404,
           "3": -122.357718,
           "4": -122.230013,
           "5": -122.1458559,
           "6": -122.5047234,
           "7": -122.0974161,
           "8": -122.2559492,
           "9": -122.0983962,
           "bdata": "ycaDLXaUXsDPFDqvsZNewFdaRuo9kV7AMswJ2uSWXsDpKXKIuI5ewG8b/LNViV7AqSFgY02gXsCm5rwQPIZewP7bwHhhkF7APkOTH0yGXsAAAABgsYNewMNyOn/JiV7AoZf2ckSEXsD9+nzvyn9ewNb+zvborF7A0uqafyp9XsBCMP0BRY1ewJY0kHhDmF7ANqFajqGTXsA=",
           "dtype": "f8",
           "shape": "19"
          },
          "bdata": "ycaDLXaUXsDPFDqvsZNewFdaRuo9kV7AMswJ2uSWXsDpKXKIuI5ewG8b/LNViV7AqSFgY02gXsCm5rwQPIZewP7bwHhhkF7APkOTH0yGXsAAAABgsYNewMNyOn/JiV7AoZf2ckSEXsD9+nzvyn9ewNb+zvborF7A0uqafyp9XsBCMP0BRY1ewJY0kHhDmF7ANqFajqGTXsA=",
          "dtype": "f8"
         },
         "marker": {
          "color": "#EF553B",
          "size": 9
         },
         "mode": "markers",
         "name": "Golf course",
         "showlegend": true,
         "subplot": "map",
         "type": "scattermap"
        }
       ],
       "layout": {
        "height": 800,
        "legend": {
         "title": {
          "text": "Location"
         },
         "tracegroupgap": 0
        },
        "map": {
         "bearing": 0,
         "center": {
          "lat": 47.5689050360707,
          "lon": -122.32669603446641
         },
         "domain": {
          "x": [
           0,
           1
          ],
          "y": [
           0,
           1
          ]
         },
         "pitch": 0,
         "zoom": 9.24509502602307
        },
        "mapbox": {
         "center": {
          "lat": 47.602831092027536,
          "lon": -122.25526209692553
         },
         "style": "open-street-map",
         "zoom": 9
        },
        "margin": {
         "b": 0,
         "l": 0,
         "r": 0,
         "t": 0
        },
        "template": {
         "data": {
          "bar": [
           {
            "error_x": {
             "color": "#2a3f5f"
            },
            "error_y": {
             "color": "#2a3f5f"
            },
            "marker": {
             "line": {
              "color": "#E5ECF6",
              "width": 0.5
             },
             "pattern": {
              "fillmode": "overlay",
              "size": 10,
              "solidity": 0.2
             }
            },
            "type": "bar"
           }
          ],
          "barpolar": [
           {
            "marker": {
             "line": {
              "color": "#E5ECF6",
              "width": 0.5
             },
             "pattern": {
              "fillmode": "overlay",
              "size": 10,
              "solidity": 0.2
             }
            },
            "type": "barpolar"
           }
          ],
          "carpet": [
           {
            "aaxis": {
             "endlinecolor": "#2a3f5f",
             "gridcolor": "white",
             "linecolor": "white",
             "minorgridcolor": "white",
             "startlinecolor": "#2a3f5f"
            },
            "baxis": {
             "endlinecolor": "#2a3f5f",
             "gridcolor": "white",
             "linecolor": "white",
             "minorgridcolor": "white",
             "startlinecolor": "#2a3f5f"
            },
            "type": "carpet"
           }
          ],
          "choropleth": [
           {
            "colorbar": {
             "outlinewidth": 0,
             "ticks": ""
            },
            "type": "choropleth"
           }
          ],
          "contour": [
           {
            "colorbar": {
             "outlinewidth": 0,
             "ticks": ""
            },
            "colorscale": [
             [
              0,
              "#0d0887"
             ],
             [
              0.1111111111111111,
              "#46039f"
             ],
             [
              0.2222222222222222,
              "#7201a8"
             ],
             [
              0.3333333333333333,
              "#9c179e"
             ],
             [
              0.4444444444444444,
              "#bd3786"
             ],
             [
              0.5555555555555556,
              "#d8576b"
             ],
             [
              0.6666666666666666,
              "#ed7953"
             ],
             [
              0.7777777777777778,
              "#fb9f3a"
             ],
             [
              0.8888888888888888,
              "#fdca26"
             ],
             [
              1,
              "#f0f921"
             ]
            ],
            "type": "contour"
           }
          ],
          "contourcarpet": [
           {
            "colorbar": {
             "outlinewidth": 0,
             "ticks": ""
            },
            "type": "contourcarpet"
           }
          ],
          "heatmap": [
           {
            "colorbar": {
             "outlinewidth": 0,
             "ticks": ""
            },
            "colorscale": [
             [
              0,
              "#0d0887"
             ],
             [
              0.1111111111111111,
              "#46039f"
             ],
             [
              0.2222222222222222,
              "#7201a8"
             ],
             [
              0.3333333333333333,
              "#9c179e"
             ],
             [
              0.4444444444444444,
              "#bd3786"
             ],
             [
              0.5555555555555556,
              "#d8576b"
             ],
             [
              0.6666666666666666,
              "#ed7953"
             ],
             [
              0.7777777777777778,
              "#fb9f3a"
             ],
             [
              0.8888888888888888,
              "#fdca26"
             ],
             [
              1,
              "#f0f921"
             ]
            ],
            "type": "heatmap"
           }
          ],
          "histogram": [
           {
            "marker": {
             "pattern": {
              "fillmode": "overlay",
              "size": 10,
              "solidity": 0.2
             }
            },
            "type": "histogram"
           }
          ],
          "histogram2d": [
           {
            "colorbar": {
             "outlinewidth": 0,
             "ticks": ""
            },
            "colorscale": [
             [
              0,
              "#0d0887"
             ],
             [
              0.1111111111111111,
              "#46039f"
             ],
             [
              0.2222222222222222,
              "#7201a8"
             ],
             [
              0.3333333333333333,
              "#9c179e"
             ],
             [
              0.4444444444444444,
              "#bd3786"
             ],
             [
              0.5555555555555556,
              "#d8576b"
             ],
             [
              0.6666666666666666,
              "#ed7953"
             ],
             [
              0.7777777777777778,
              "#fb9f3a"
             ],
             [
              0.8888888888888888,
              "#fdca26"
             ],
             [
              1,
              "#f0f921"
             ]
            ],
            "type": "histogram2d"
           }
          ],
          "histogram2dcontour": [
           {
            "colorbar": {
             "outlinewidth": 0,
             "ticks": ""
            },
            "colorscale": [
             [
              0,
              "#0d0887"
             ],
             [
              0.1111111111111111,
              "#46039f"
             ],
             [
              0.2222222222222222,
              "#7201a8"
             ],
             [
              0.3333333333333333,
              "#9c179e"
             ],
             [
              0.4444444444444444,
              "#bd3786"
             ],
             [
              0.5555555555555556,
              "#d8576b"
             ],
             [
              0.6666666666666666,
              "#ed7953"
             ],
             [
              0.7777777777777778,
              "#fb9f3a"
             ],
             [
              0.8888888888888888,
              "#fdca26"
             ],
             [
              1,
              "#f0f921"
             ]
            ],
            "type": "histogram2dcontour"
           }
          ],
          "mesh3d": [
           {
            "colorbar": {
             "outlinewidth": 0,
             "ticks": ""
            },
            "type": "mesh3d"
           }
          ],
          "parcoords": [
           {
            "line": {
             "colorbar": {
              "outlinewidth": 0,
              "ticks": ""
             }
            },
            "type": "parcoords"
           }
          ],
          "pie": [
           {
            "automargin": true,
            "type": "pie"
           }
          ],
          "scatter": [
           {
            "fillpattern": {
             "fillmode": "overlay",
             "size": 10,
             "solidity": 0.2
            },
            "type": "scatter"
           }
          ],
          "scatter3d": [
           {
            "line": {
             "colorbar": {
              "outlinewidth": 0,
              "ticks": ""
             }
            },
            "marker": {
             "colorbar": {
              "outlinewidth": 0,
              "ticks": ""
             }
            },
            "type": "scatter3d"
           }
          ],
          "scattercarpet": [
           {
            "marker": {
             "colorbar": {
              "outlinewidth": 0,
              "ticks": ""
             }
            },
            "type": "scattercarpet"
           }
          ],
          "scattergeo": [
           {
            "marker": {
             "colorbar": {
              "outlinewidth": 0,
              "ticks": ""
             }
            },
            "type": "scattergeo"
           }
          ],
          "scattergl": [
           {
            "marker": {
             "colorbar": {
              "outlinewidth": 0,
              "ticks": ""
             }
            },
            "type": "scattergl"
           }
          ],
          "scattermap": [
           {
            "marker": {
             "colorbar": {
              "outlinewidth": 0,
              "ticks": ""
             }
            },
            "type": "scattermap"
           }
          ],
          "scattermapbox": [
           {
            "marker": {
             "colorbar": {
              "outlinewidth": 0,
              "ticks": ""
             }
            },
            "type": "scattermapbox"
           }
          ],
          "scatterpolar": [
           {
            "marker": {
             "colorbar": {
              "outlinewidth": 0,
              "ticks": ""
             }
            },
            "type": "scatterpolar"
           }
          ],
          "scatterpolargl": [
           {
            "marker": {
             "colorbar": {
              "outlinewidth": 0,
              "ticks": ""
             }
            },
            "type": "scatterpolargl"
           }
          ],
          "scatterternary": [
           {
            "marker": {
             "colorbar": {
              "outlinewidth": 0,
              "ticks": ""
             }
            },
            "type": "scatterternary"
           }
          ],
          "surface": [
           {
            "colorbar": {
             "outlinewidth": 0,
             "ticks": ""
            },
            "colorscale": [
             [
              0,
              "#0d0887"
             ],
             [
              0.1111111111111111,
              "#46039f"
             ],
             [
              0.2222222222222222,
              "#7201a8"
             ],
             [
              0.3333333333333333,
              "#9c179e"
             ],
             [
              0.4444444444444444,
              "#bd3786"
             ],
             [
              0.5555555555555556,
              "#d8576b"
             ],
             [
              0.6666666666666666,
              "#ed7953"
             ],
             [
              0.7777777777777778,
              "#fb9f3a"
             ],
             [
              0.8888888888888888,
              "#fdca26"
             ],
             [
              1,
              "#f0f921"
             ]
            ],
            "type": "surface"
           }
          ],
          "table": [
           {
            "cells": {
             "fill": {
              "color": "#EBF0F8"
             },
             "line": {
              "color": "white"
             }
            },
            "header": {
             "fill": {
              "color": "#C8D4E3"
             },
             "line": {
              "color": "white"
             }
            },
            "type": "table"
           }
          ]
         },
         "layout": {
          "annotationdefaults": {
           "arrowcolor": "#2a3f5f",
           "arrowhead": 0,
           "arrowwidth": 1
          },
          "autotypenumbers": "strict",
          "coloraxis": {
           "colorbar": {
            "outlinewidth": 0,
            "ticks": ""
           }
          },
          "colorscale": {
           "diverging": [
            [
             0,
             "#8e0152"
            ],
            [
             0.1,
             "#c51b7d"
            ],
            [
             0.2,
             "#de77ae"
            ],
            [
             0.3,
             "#f1b6da"
            ],
            [
             0.4,
             "#fde0ef"
            ],
            [
             0.5,
             "#f7f7f7"
            ],
            [
             0.6,
             "#e6f5d0"
            ],
            [
             0.7,
             "#b8e186"
            ],
            [
             0.8,
             "#7fbc41"
            ],
            [
             0.9,
             "#4d9221"
            ],
            [
             1,
             "#276419"
            ]
           ],
           "sequential": [
            [
             0,
             "#0d0887"
            ],
            [
             0.1111111111111111,
             "#46039f"
            ],
            [
             0.2222222222222222,
             "#7201a8"
            ],
            [
             0.3333333333333333,
             "#9c179e"
            ],
            [
             0.4444444444444444,
             "#bd3786"
            ],
            [
             0.5555555555555556,
             "#d8576b"
            ],
            [
             0.6666666666666666,
             "#ed7953"
            ],
            [
             0.7777777777777778,
             "#fb9f3a"
            ],
            [
             0.8888888888888888,
             "#fdca26"
            ],
            [
             1,
             "#f0f921"
            ]
           ],
           "sequentialminus": [
            [
             0,
             "#0d0887"
            ],
            [
             0.1111111111111111,
             "#46039f"
            ],
            [
             0.2222222222222222,
             "#7201a8"
            ],
            [
             0.3333333333333333,
             "#9c179e"
            ],
            [
             0.4444444444444444,
             "#bd3786"
            ],
            [
             0.5555555555555556,
             "#d8576b"
            ],
            [
             0.6666666666666666,
             "#ed7953"
            ],
            [
             0.7777777777777778,
             "#fb9f3a"
            ],
            [
             0.8888888888888888,
             "#fdca26"
            ],
            [
             1,
             "#f0f921"
            ]
           ]
          },
          "colorway": [
           "#636efa",
           "#EF553B",
           "#00cc96",
           "#ab63fa",
           "#FFA15A",
           "#19d3f3",
           "#FF6692",
           "#B6E880",
           "#FF97FF",
           "#FECB52"
          ],
          "font": {
           "color": "#2a3f5f"
          },
          "geo": {
           "bgcolor": "white",
           "lakecolor": "white",
           "landcolor": "#E5ECF6",
           "showlakes": true,
           "showland": true,
           "subunitcolor": "white"
          },
          "hoverlabel": {
           "align": "left"
          },
          "hovermode": "closest",
          "mapbox": {
           "style": "light"
          },
          "paper_bgcolor": "white",
          "plot_bgcolor": "#E5ECF6",
          "polar": {
           "angularaxis": {
            "gridcolor": "white",
            "linecolor": "white",
            "ticks": ""
           },
           "bgcolor": "#E5ECF6",
           "radialaxis": {
            "gridcolor": "white",
            "linecolor": "white",
            "ticks": ""
           }
          },
          "scene": {
           "xaxis": {
            "backgroundcolor": "#E5ECF6",
            "gridcolor": "white",
            "gridwidth": 2,
            "linecolor": "white",
            "showbackground": true,
            "ticks": "",
            "zerolinecolor": "white"
           },
           "yaxis": {
            "backgroundcolor": "#E5ECF6",
            "gridcolor": "white",
            "gridwidth": 2,
            "linecolor": "white",
            "showbackground": true,
            "ticks": "",
            "zerolinecolor": "white"
           },
           "zaxis": {
            "backgroundcolor": "#E5ECF6",
            "gridcolor": "white",
            "gridwidth": 2,
            "linecolor": "white",
            "showbackground": true,
            "ticks": "",
            "zerolinecolor": "white"
           }
          },
          "shapedefaults": {
           "line": {
            "color": "#2a3f5f"
           }
          },
          "ternary": {
           "aaxis": {
            "gridcolor": "white",
            "linecolor": "white",
            "ticks": ""
           },
           "baxis": {
            "gridcolor": "white",
            "linecolor": "white",
            "ticks": ""
           },
           "bgcolor": "#E5ECF6",
           "caxis": {
            "gridcolor": "white",
            "linecolor": "white",
            "ticks": ""
           }
          },
          "title": {
           "x": 0.05
          },
          "xaxis": {
           "automargin": true,
           "gridcolor": "white",
           "linecolor": "white",
           "ticks": "",
           "title": {
            "standoff": 15
           },
           "zerolinecolor": "white",
           "zerolinewidth": 2
          },
          "yaxis": {
           "automargin": true,
           "gridcolor": "white",
           "linecolor": "white",
           "ticks": "",
           "title": {
            "standoff": 15
           },
           "zerolinecolor": "white",
           "zerolinewidth": 2
          }
         }
        },
        "width": 900
       }
      }
     },
     "metadata": {},
     "output_type": "display_data"
    }
   ],
   "source": [
    "fig = px.scatter_map(df_dist_golf_plot, \n",
    "                        lat=\"lat\", \n",
    "                        lon=\"long\", \n",
    "                        hover_name=\"prop_id\", \n",
    "                        #hover_data=[\"Address\", \"Listed\"],\n",
    "                        color=\"Location\",\n",
    "                        #color_continuous_scale=color_scale,\n",
    "                        #size=\"Listed\",\n",
    "                        zoom=9, \n",
    "                        height=800,\n",
    "                        width=900)\n",
    "\n",
    "fig.update_traces(marker=dict(size=9),\n",
    "                  selector=dict(mode='markers'))\n",
    "\n",
    "fig.update_layout(mapbox_style=\"open-street-map\")\n",
    "fig.update_layout(margin={\"r\":0,\"t\":0,\"l\":0,\"b\":0})\n",
    "fig.show()"
   ]
  },
  {
   "cell_type": "code",
   "execution_count": 149,
   "id": "e17235fe-c384-463c-b853-e94cf3e8bcbb",
   "metadata": {},
   "outputs": [
    {
     "data": {
      "text/html": [
       "<div>\n",
       "<style scoped>\n",
       "    .dataframe tbody tr th:only-of-type {\n",
       "        vertical-align: middle;\n",
       "    }\n",
       "\n",
       "    .dataframe tbody tr th {\n",
       "        vertical-align: top;\n",
       "    }\n",
       "\n",
       "    .dataframe thead th {\n",
       "        text-align: right;\n",
       "    }\n",
       "</style>\n",
       "<table border=\"1\" class=\"dataframe\">\n",
       "  <thead>\n",
       "    <tr style=\"text-align: right;\">\n",
       "      <th></th>\n",
       "      <th>prop_id</th>\n",
       "      <th>bedrooms</th>\n",
       "      <th>bathrooms</th>\n",
       "      <th>sqft_living</th>\n",
       "      <th>sqft_lot</th>\n",
       "      <th>floors</th>\n",
       "      <th>waterfront</th>\n",
       "      <th>view</th>\n",
       "      <th>condition</th>\n",
       "      <th>grade</th>\n",
       "      <th>...</th>\n",
       "      <th>yr_renovated</th>\n",
       "      <th>zipcode</th>\n",
       "      <th>lat</th>\n",
       "      <th>long</th>\n",
       "      <th>sqft_living15</th>\n",
       "      <th>sqft_lot15</th>\n",
       "      <th>date</th>\n",
       "      <th>price</th>\n",
       "      <th>transaction_id</th>\n",
       "      <th>g_average_distance</th>\n",
       "    </tr>\n",
       "  </thead>\n",
       "  <tbody>\n",
       "    <tr>\n",
       "      <th>0</th>\n",
       "      <td>3377900195</td>\n",
       "      <td>4.0</td>\n",
       "      <td>5.50</td>\n",
       "      <td>6930</td>\n",
       "      <td>45100</td>\n",
       "      <td>1.0</td>\n",
       "      <td>0</td>\n",
       "      <td>0</td>\n",
       "      <td>4</td>\n",
       "      <td>11</td>\n",
       "      <td>...</td>\n",
       "      <td>1991</td>\n",
       "      <td>98006</td>\n",
       "      <td>47.5547</td>\n",
       "      <td>-122.144</td>\n",
       "      <td>2560</td>\n",
       "      <td>37766</td>\n",
       "      <td>2014-09-29</td>\n",
       "      <td>2530000</td>\n",
       "      <td>3019</td>\n",
       "      <td>8.869581</td>\n",
       "    </tr>\n",
       "    <tr>\n",
       "      <th>6</th>\n",
       "      <td>3627800050</td>\n",
       "      <td>5.0</td>\n",
       "      <td>4.00</td>\n",
       "      <td>3760</td>\n",
       "      <td>22763</td>\n",
       "      <td>1.0</td>\n",
       "      <td>0</td>\n",
       "      <td>3</td>\n",
       "      <td>4</td>\n",
       "      <td>11</td>\n",
       "      <td>...</td>\n",
       "      <td>&lt;NA&gt;</td>\n",
       "      <td>98040</td>\n",
       "      <td>47.5333</td>\n",
       "      <td>-122.220</td>\n",
       "      <td>3730</td>\n",
       "      <td>11201</td>\n",
       "      <td>2014-07-15</td>\n",
       "      <td>1380000</td>\n",
       "      <td>14927</td>\n",
       "      <td>9.194866</td>\n",
       "    </tr>\n",
       "    <tr>\n",
       "      <th>3</th>\n",
       "      <td>5249800010</td>\n",
       "      <td>4.0</td>\n",
       "      <td>4.25</td>\n",
       "      <td>6410</td>\n",
       "      <td>43838</td>\n",
       "      <td>2.5</td>\n",
       "      <td>0</td>\n",
       "      <td>2</td>\n",
       "      <td>4</td>\n",
       "      <td>12</td>\n",
       "      <td>...</td>\n",
       "      <td>&lt;NA&gt;</td>\n",
       "      <td>98144</td>\n",
       "      <td>47.5703</td>\n",
       "      <td>-122.280</td>\n",
       "      <td>2270</td>\n",
       "      <td>6630</td>\n",
       "      <td>2014-12-03</td>\n",
       "      <td>2730000</td>\n",
       "      <td>5962</td>\n",
       "      <td>9.301835</td>\n",
       "    </tr>\n",
       "    <tr>\n",
       "      <th>9</th>\n",
       "      <td>5317100750</td>\n",
       "      <td>4.0</td>\n",
       "      <td>4.75</td>\n",
       "      <td>4575</td>\n",
       "      <td>24085</td>\n",
       "      <td>2.5</td>\n",
       "      <td>0</td>\n",
       "      <td>2</td>\n",
       "      <td>5</td>\n",
       "      <td>10</td>\n",
       "      <td>...</td>\n",
       "      <td>&lt;NA&gt;</td>\n",
       "      <td>98112</td>\n",
       "      <td>47.6263</td>\n",
       "      <td>-122.284</td>\n",
       "      <td>3900</td>\n",
       "      <td>9687</td>\n",
       "      <td>2014-07-11</td>\n",
       "      <td>2920000</td>\n",
       "      <td>18315</td>\n",
       "      <td>9.816267</td>\n",
       "    </tr>\n",
       "    <tr>\n",
       "      <th>5</th>\n",
       "      <td>1333300145</td>\n",
       "      <td>3.0</td>\n",
       "      <td>4.00</td>\n",
       "      <td>4200</td>\n",
       "      <td>30120</td>\n",
       "      <td>2.0</td>\n",
       "      <td>0</td>\n",
       "      <td>2</td>\n",
       "      <td>4</td>\n",
       "      <td>11</td>\n",
       "      <td>...</td>\n",
       "      <td>&lt;NA&gt;</td>\n",
       "      <td>98112</td>\n",
       "      <td>47.6379</td>\n",
       "      <td>-122.311</td>\n",
       "      <td>2760</td>\n",
       "      <td>12200</td>\n",
       "      <td>2015-03-04</td>\n",
       "      <td>2230000</td>\n",
       "      <td>14173</td>\n",
       "      <td>10.134726</td>\n",
       "    </tr>\n",
       "  </tbody>\n",
       "</table>\n",
       "<p>5 rows × 23 columns</p>\n",
       "</div>"
      ],
      "text/plain": [
       "      prop_id  bedrooms  bathrooms  sqft_living  sqft_lot  floors  waterfront  \\\n",
       "0  3377900195       4.0       5.50         6930     45100     1.0           0   \n",
       "6  3627800050       5.0       4.00         3760     22763     1.0           0   \n",
       "3  5249800010       4.0       4.25         6410     43838     2.5           0   \n",
       "9  5317100750       4.0       4.75         4575     24085     2.5           0   \n",
       "5  1333300145       3.0       4.00         4200     30120     2.0           0   \n",
       "\n",
       "   view  condition  grade  ...  yr_renovated  zipcode      lat     long  \\\n",
       "0     0          4     11  ...          1991    98006  47.5547 -122.144   \n",
       "6     3          4     11  ...          <NA>    98040  47.5333 -122.220   \n",
       "3     2          4     12  ...          <NA>    98144  47.5703 -122.280   \n",
       "9     2          5     10  ...          <NA>    98112  47.6263 -122.284   \n",
       "5     2          4     11  ...          <NA>    98112  47.6379 -122.311   \n",
       "\n",
       "   sqft_living15  sqft_lot15        date    price  transaction_id  \\\n",
       "0           2560       37766  2014-09-29  2530000            3019   \n",
       "6           3730       11201  2014-07-15  1380000           14927   \n",
       "3           2270        6630  2014-12-03  2730000            5962   \n",
       "9           3900        9687  2014-07-11  2920000           18315   \n",
       "5           2760       12200  2015-03-04  2230000           14173   \n",
       "\n",
       "  g_average_distance  \n",
       "0           8.869581  \n",
       "6           9.194866  \n",
       "3           9.301835  \n",
       "9           9.816267  \n",
       "5          10.134726  \n",
       "\n",
       "[5 rows x 23 columns]"
      ]
     },
     "execution_count": 149,
     "metadata": {},
     "output_type": "execute_result"
    }
   ],
   "source": [
    "# import of golf data and combining it with real estate data\n",
    "df_golf_courses = pd.read_csv('data/golf_clubs.csv', sep=\";\")\n",
    "df_jacob_wide_shrunk = df_jacob_wide[['prop_id', 'lat', 'long']] \n",
    "df_dist_golf = pd.merge(df_jacob_wide_shrunk, df_golf_courses, how=\"cross\")\n",
    "\n",
    "# function to calculate the distances\n",
    "def haversine(lat1, lon1, lat2, lon2):\n",
    "    \"\"\"\n",
    "    Calculate the great circle distance between two points\n",
    "    on the earth (specified in decimal degrees)\n",
    "    \"\"\"\n",
    "    # Convert latitude and longitude from degrees to radians\n",
    "    lat1, lon1, lat2, lon2 = map(np.radians, [lat1, lon1, lat2, lon2])\n",
    "\n",
    "    # Haversine formula\n",
    "    dlon = lon2 - lon1\n",
    "    dlat = lat2 - lat1\n",
    "    a = np.sin(dlat/2)**2 + np.cos(lat1) * np.cos(lat2) * np.sin(dlon/2)**2\n",
    "    c = 2 * np.arcsin(np.sqrt(a))\n",
    "    r = 6371  # Radius of earth in kilometers. Use 3956 for miles\n",
    "    return c * r\n",
    "\n",
    "df_dist_golf['distance'] = df_dist_golf.apply(lambda row: haversine(row['lat'], row['long'], row['g_lat'], row['g_long']), axis=1)\n",
    "# sort the distances distances per property and select the five shortest of them\n",
    "df_dist_golf = df_dist_golf.sort_values('distance').groupby('prop_id').head(5).sort_values(['prop_id', 'distance'])\n",
    "# calculate the average of the five distances\n",
    "df_dist_golf = df_dist_golf.groupby(['prop_id'])['distance'].mean().reset_index(name='g_average_distance')\n",
    "# join the property and the distance data\n",
    "df_jacob_wide_golf = pd.merge(df_jacob_wide, df_dist_golf, on='prop_id')\n",
    "df_dist_golf.head(15)\n",
    "# select the top five properties (by distance to the golf courses)\n",
    "df_jacob_wide_golf.sort_values('g_average_distance')[:5]"
   ]
  },
  {
   "cell_type": "markdown",
   "id": "f4d43cf9-7b2e-41ec-92c5-dfa190b4bf27",
   "metadata": {},
   "source": [
    "##### Finally, the coordinates of the top3 properties were entered into Google maps, to create pictures from high above (to see where the property is situated) and from closer range to get provide an overview how the property looks. If there were good pictures available from Google streetview those were added as well.  \n",
    "---\n",
    "##### Data from the dataframe was combined with the Google images to present the top3 properties to the client. Those things constitute the final slides of the presentation. Now, one can only hope he likes the proposals ;)"
   ]
  }
 ],
 "metadata": {
  "kernelspec": {
   "display_name": "Python 3 (ipykernel)",
   "language": "python",
   "name": "python3"
  },
  "language_info": {
   "codemirror_mode": {
    "name": "ipython",
    "version": 3
   },
   "file_extension": ".py",
   "mimetype": "text/x-python",
   "name": "python",
   "nbconvert_exporter": "python",
   "pygments_lexer": "ipython3",
   "version": "3.11.3"
  }
 },
 "nbformat": 4,
 "nbformat_minor": 5
}
